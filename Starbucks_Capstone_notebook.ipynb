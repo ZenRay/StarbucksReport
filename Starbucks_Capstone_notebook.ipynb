{
 "cells": [
  {
   "cell_type": "markdown",
   "metadata": {},
   "source": [
    "# Starbucks Capstone Challenge\n",
    "\n",
    "### Introduction\n",
    "\n",
    "This data set contains simulated data that mimics customer behavior on the Starbucks rewards mobile app. Once every few days, Starbucks sends out an offer to users of the mobile app. An offer can be merely an advertisement for a drink or an actual offer such as a discount or BOGO (buy one get one free). Some users might not receive any offer during certain weeks. \n",
    "\n",
    "Not all users receive the same offer, and that is the challenge to solve with this data set.\n",
    "\n",
    "Your task is to combine transaction, demographic and offer data to determine which demographic groups respond best to which offer type. This data set is a simplified version of the real Starbucks app because the underlying simulator only has one product whereas Starbucks actually sells dozens of products.\n",
    "\n",
    "Every offer has a validity period before the offer expires. As an example, a BOGO offer might be valid for only 5 days. You'll see in the data set that informational offers have a validity period even though these ads are merely providing information about a product; for example, if an informational offer has 7 days of validity, you can assume the customer is feeling the influence of the offer for 7 days after receiving the advertisement.\n",
    "\n",
    "You'll be given transactional data showing user purchases made on the app including the timestamp of purchase and the amount of money spent on a purchase. This transactional data also has a record for each offer that a user receives as well as a record for when a user actually views the offer. There are also records for when a user completes an offer. \n",
    "\n",
    "Keep in mind as well that someone using the app might make a purchase through the app without having received an offer or seen an offer.\n",
    "\n",
    "### Example\n",
    "\n",
    "To give an example, a user could receive a discount offer buy 10 dollars get 2 off on Monday. The offer is valid for 10 days from receipt. If the customer accumulates at least 10 dollars in purchases during the validity period, the customer completes the offer.\n",
    "\n",
    "However, there are a few things to watch out for in this data set. Customers do not opt into the offers that they receive; in other words, a user can receive an offer, never actually view the offer, and still complete the offer. For example, a user might receive the \"buy 10 dollars get 2 dollars off offer\", but the user never opens the offer during the 10 day validity period. The customer spends 15 dollars during those ten days. There will be an offer completion record in the data set; however, the customer was not influenced by the offer because the customer never viewed the offer.\n",
    "\n",
    "### Cleaning\n",
    "\n",
    "This makes data cleaning especially important and tricky.\n",
    "\n",
    "You'll also want to take into account that some demographic groups will make purchases even if they don't receive an offer. From a business perspective, if a customer is going to make a 10 dollar purchase without an offer anyway, you wouldn't want to send a buy 10 dollars get 2 dollars off offer. You'll want to try to assess what a certain demographic group will buy when not receiving any offers.\n",
    "\n",
    "### Final Advice\n",
    "\n",
    "Because this is a capstone project, you are free to analyze the data any way you see fit. For example, you could build a machine learning model that predicts how much someone will spend based on demographics and offer type. Or you could build a model that predicts whether or not someone will respond to an offer. Or, you don't need to build a machine learning model at all. You could develop a set of heuristics that determine what offer you should send to each customer (ie 75 percent of women customers who were 35 years old responded to offer A vs 40 percent from the same demographic to offer B, so send offer A)."
   ]
  },
  {
   "cell_type": "markdown",
   "metadata": {},
   "source": [
    "# Data Sets\n",
    "\n",
    "The data is contained in three files:\n",
    "\n",
    "* portfolio.json - containing offer ids and meta data about each offer (duration, type, etc.)\n",
    "* profile.json - demographic data for each customer\n",
    "* transcript.json - records for transactions, offers received, offers viewed, and offers completed\n",
    "\n",
    "Here is the schema and explanation of each variable in the files:\n",
    "\n",
    "**portfolio.json**\n",
    "* id (string) - offer id\n",
    "* offer_type (string) - type of offer ie BOGO, discount, informational\n",
    "* difficulty (int) - minimum required spend to complete an offer\n",
    "* reward (int) - reward given for completing an offer\n",
    "* duration (int) - \n",
    "* channels (list of strings)\n",
    "\n",
    "**profile.json**\n",
    "* age (int) - age of the customer \n",
    "* became_member_on (int) - date when customer created an app account\n",
    "* gender (str) - gender of the customer (note some entries contain 'O' for other rather than M or F)\n",
    "* id (str) - customer id\n",
    "* income (float) - customer's income\n",
    "\n",
    "**transcript.json**\n",
    "* event (str) - record description (ie transaction, offer received, offer viewed, etc.)\n",
    "* person (str) - customer id\n",
    "* time (int) - time in hours. The data begins at time t=0\n",
    "* value - (dict of strings) - either an offer id or transaction amount depending on the record"
   ]
  },
  {
   "cell_type": "code",
   "execution_count": 1,
   "metadata": {},
   "outputs": [],
   "source": [
    "import pandas as pd\n",
    "import numpy as np\n",
    "import math\n",
    "import json\n",
    "% matplotlib inline\n",
    "\n",
    "# read in the json files\n",
    "portfolio = pd.read_json('data/portfolio.json', orient='records', lines=True)\n",
    "profile = pd.read_json('data/profile.json', orient='records', lines=True)\n",
    "transcript = pd.read_json('data/transcript.json', orient='records', lines=True)"
   ]
  },
  {
   "cell_type": "code",
   "execution_count": 2,
   "metadata": {},
   "outputs": [],
   "source": [
    "# load other package\n",
    "import seaborn as sns\n",
    "import matplotlib.pyplot as plt\n",
    "import matplotlib as mtl\n",
    "import warnings\n",
    "from IPython.display import display_html\n",
    "from imp import reload\n",
    "\n",
    "import sys\n",
    "\n",
    "sys.path.append(\"./tool/\")\n",
    "\n",
    "import preprocess\n",
    "import model"
   ]
  },
  {
   "cell_type": "code",
   "execution_count": 3,
   "metadata": {},
   "outputs": [],
   "source": [
    "# load sci-kit package\n",
    "from sklearn.linear_model import LinearRegression\n",
    "from sklearn.ensemble import AdaBoostRegressor, RandomForestRegressor\n",
    "from sklearn.tree import DecisionTreeRegressor\n",
    "\n",
    "from sklearn.pipeline import Pipeline\n",
    "\n",
    "from sklearn.preprocessing import MinMaxScaler, minmax_scale\n",
    "from sklearn.feature_selection import SelectPercentile, f_regression, mutual_info_regression, SelectFwe\n",
    "from sklearn.model_selection import train_test_split, GridSearchCV\n",
    "from sklearn.metrics import mean_squared_error, r2_score, make_scorer"
   ]
  },
  {
   "cell_type": "code",
   "execution_count": 4,
   "metadata": {},
   "outputs": [
    {
     "data": {
      "text/html": [
       "<div>\n",
       "<style scoped>\n",
       "    .dataframe tbody tr th:only-of-type {\n",
       "        vertical-align: middle;\n",
       "    }\n",
       "\n",
       "    .dataframe tbody tr th {\n",
       "        vertical-align: top;\n",
       "    }\n",
       "\n",
       "    .dataframe thead th {\n",
       "        text-align: right;\n",
       "    }\n",
       "</style>\n",
       "<table border=\"1\" class=\"dataframe\">\n",
       "  <thead>\n",
       "    <tr style=\"text-align: right;\">\n",
       "      <th></th>\n",
       "      <th>channels</th>\n",
       "      <th>difficulty</th>\n",
       "      <th>duration</th>\n",
       "      <th>id</th>\n",
       "      <th>offer_type</th>\n",
       "      <th>reward</th>\n",
       "    </tr>\n",
       "  </thead>\n",
       "  <tbody>\n",
       "    <tr>\n",
       "      <th>0</th>\n",
       "      <td>[email, mobile, social]</td>\n",
       "      <td>10</td>\n",
       "      <td>7</td>\n",
       "      <td>ae264e3637204a6fb9bb56bc8210ddfd</td>\n",
       "      <td>bogo</td>\n",
       "      <td>10</td>\n",
       "    </tr>\n",
       "    <tr>\n",
       "      <th>1</th>\n",
       "      <td>[web, email, mobile, social]</td>\n",
       "      <td>10</td>\n",
       "      <td>5</td>\n",
       "      <td>4d5c57ea9a6940dd891ad53e9dbe8da0</td>\n",
       "      <td>bogo</td>\n",
       "      <td>10</td>\n",
       "    </tr>\n",
       "    <tr>\n",
       "      <th>2</th>\n",
       "      <td>[web, email, mobile]</td>\n",
       "      <td>0</td>\n",
       "      <td>4</td>\n",
       "      <td>3f207df678b143eea3cee63160fa8bed</td>\n",
       "      <td>informational</td>\n",
       "      <td>0</td>\n",
       "    </tr>\n",
       "    <tr>\n",
       "      <th>3</th>\n",
       "      <td>[web, email, mobile]</td>\n",
       "      <td>5</td>\n",
       "      <td>7</td>\n",
       "      <td>9b98b8c7a33c4b65b9aebfe6a799e6d9</td>\n",
       "      <td>bogo</td>\n",
       "      <td>5</td>\n",
       "    </tr>\n",
       "    <tr>\n",
       "      <th>4</th>\n",
       "      <td>[web, email]</td>\n",
       "      <td>20</td>\n",
       "      <td>10</td>\n",
       "      <td>0b1e1539f2cc45b7b9fa7c272da2e1d7</td>\n",
       "      <td>discount</td>\n",
       "      <td>5</td>\n",
       "    </tr>\n",
       "  </tbody>\n",
       "</table>\n",
       "</div>"
      ],
      "text/plain": [
       "                       channels  difficulty  duration  \\\n",
       "0       [email, mobile, social]          10         7   \n",
       "1  [web, email, mobile, social]          10         5   \n",
       "2          [web, email, mobile]           0         4   \n",
       "3          [web, email, mobile]           5         7   \n",
       "4                  [web, email]          20        10   \n",
       "\n",
       "                                 id     offer_type  reward  \n",
       "0  ae264e3637204a6fb9bb56bc8210ddfd           bogo      10  \n",
       "1  4d5c57ea9a6940dd891ad53e9dbe8da0           bogo      10  \n",
       "2  3f207df678b143eea3cee63160fa8bed  informational       0  \n",
       "3  9b98b8c7a33c4b65b9aebfe6a799e6d9           bogo       5  \n",
       "4  0b1e1539f2cc45b7b9fa7c272da2e1d7       discount       5  "
      ]
     },
     "execution_count": 4,
     "metadata": {},
     "output_type": "execute_result"
    }
   ],
   "source": [
    "portfolio.head()"
   ]
  },
  {
   "cell_type": "code",
   "execution_count": 5,
   "metadata": {},
   "outputs": [
    {
     "data": {
      "text/html": [
       "<div>\n",
       "<style scoped>\n",
       "    .dataframe tbody tr th:only-of-type {\n",
       "        vertical-align: middle;\n",
       "    }\n",
       "\n",
       "    .dataframe tbody tr th {\n",
       "        vertical-align: top;\n",
       "    }\n",
       "\n",
       "    .dataframe thead th {\n",
       "        text-align: right;\n",
       "    }\n",
       "</style>\n",
       "<table border=\"1\" class=\"dataframe\">\n",
       "  <thead>\n",
       "    <tr style=\"text-align: right;\">\n",
       "      <th></th>\n",
       "      <th>age</th>\n",
       "      <th>became_member_on</th>\n",
       "      <th>gender</th>\n",
       "      <th>id</th>\n",
       "      <th>income</th>\n",
       "    </tr>\n",
       "  </thead>\n",
       "  <tbody>\n",
       "    <tr>\n",
       "      <th>0</th>\n",
       "      <td>118</td>\n",
       "      <td>20170212</td>\n",
       "      <td>None</td>\n",
       "      <td>68be06ca386d4c31939f3a4f0e3dd783</td>\n",
       "      <td>NaN</td>\n",
       "    </tr>\n",
       "    <tr>\n",
       "      <th>1</th>\n",
       "      <td>55</td>\n",
       "      <td>20170715</td>\n",
       "      <td>F</td>\n",
       "      <td>0610b486422d4921ae7d2bf64640c50b</td>\n",
       "      <td>112000.0</td>\n",
       "    </tr>\n",
       "    <tr>\n",
       "      <th>2</th>\n",
       "      <td>118</td>\n",
       "      <td>20180712</td>\n",
       "      <td>None</td>\n",
       "      <td>38fe809add3b4fcf9315a9694bb96ff5</td>\n",
       "      <td>NaN</td>\n",
       "    </tr>\n",
       "    <tr>\n",
       "      <th>3</th>\n",
       "      <td>75</td>\n",
       "      <td>20170509</td>\n",
       "      <td>F</td>\n",
       "      <td>78afa995795e4d85b5d9ceeca43f5fef</td>\n",
       "      <td>100000.0</td>\n",
       "    </tr>\n",
       "    <tr>\n",
       "      <th>4</th>\n",
       "      <td>118</td>\n",
       "      <td>20170804</td>\n",
       "      <td>None</td>\n",
       "      <td>a03223e636434f42ac4c3df47e8bac43</td>\n",
       "      <td>NaN</td>\n",
       "    </tr>\n",
       "  </tbody>\n",
       "</table>\n",
       "</div>"
      ],
      "text/plain": [
       "   age  became_member_on gender                                id    income\n",
       "0  118          20170212   None  68be06ca386d4c31939f3a4f0e3dd783       NaN\n",
       "1   55          20170715      F  0610b486422d4921ae7d2bf64640c50b  112000.0\n",
       "2  118          20180712   None  38fe809add3b4fcf9315a9694bb96ff5       NaN\n",
       "3   75          20170509      F  78afa995795e4d85b5d9ceeca43f5fef  100000.0\n",
       "4  118          20170804   None  a03223e636434f42ac4c3df47e8bac43       NaN"
      ]
     },
     "execution_count": 5,
     "metadata": {},
     "output_type": "execute_result"
    }
   ],
   "source": [
    "profile.head()"
   ]
  },
  {
   "cell_type": "code",
   "execution_count": 6,
   "metadata": {},
   "outputs": [
    {
     "data": {
      "text/html": [
       "<div>\n",
       "<style scoped>\n",
       "    .dataframe tbody tr th:only-of-type {\n",
       "        vertical-align: middle;\n",
       "    }\n",
       "\n",
       "    .dataframe tbody tr th {\n",
       "        vertical-align: top;\n",
       "    }\n",
       "\n",
       "    .dataframe thead th {\n",
       "        text-align: right;\n",
       "    }\n",
       "</style>\n",
       "<table border=\"1\" class=\"dataframe\">\n",
       "  <thead>\n",
       "    <tr style=\"text-align: right;\">\n",
       "      <th></th>\n",
       "      <th>event</th>\n",
       "      <th>person</th>\n",
       "      <th>time</th>\n",
       "      <th>value</th>\n",
       "    </tr>\n",
       "  </thead>\n",
       "  <tbody>\n",
       "    <tr>\n",
       "      <th>0</th>\n",
       "      <td>offer received</td>\n",
       "      <td>78afa995795e4d85b5d9ceeca43f5fef</td>\n",
       "      <td>0</td>\n",
       "      <td>{'offer id': '9b98b8c7a33c4b65b9aebfe6a799e6d9'}</td>\n",
       "    </tr>\n",
       "    <tr>\n",
       "      <th>1</th>\n",
       "      <td>offer received</td>\n",
       "      <td>a03223e636434f42ac4c3df47e8bac43</td>\n",
       "      <td>0</td>\n",
       "      <td>{'offer id': '0b1e1539f2cc45b7b9fa7c272da2e1d7'}</td>\n",
       "    </tr>\n",
       "    <tr>\n",
       "      <th>2</th>\n",
       "      <td>offer received</td>\n",
       "      <td>e2127556f4f64592b11af22de27a7932</td>\n",
       "      <td>0</td>\n",
       "      <td>{'offer id': '2906b810c7d4411798c6938adc9daaa5'}</td>\n",
       "    </tr>\n",
       "    <tr>\n",
       "      <th>3</th>\n",
       "      <td>offer received</td>\n",
       "      <td>8ec6ce2a7e7949b1bf142def7d0e0586</td>\n",
       "      <td>0</td>\n",
       "      <td>{'offer id': 'fafdcd668e3743c1bb461111dcafc2a4'}</td>\n",
       "    </tr>\n",
       "    <tr>\n",
       "      <th>4</th>\n",
       "      <td>offer received</td>\n",
       "      <td>68617ca6246f4fbc85e91a2a49552598</td>\n",
       "      <td>0</td>\n",
       "      <td>{'offer id': '4d5c57ea9a6940dd891ad53e9dbe8da0'}</td>\n",
       "    </tr>\n",
       "  </tbody>\n",
       "</table>\n",
       "</div>"
      ],
      "text/plain": [
       "            event                            person  time  \\\n",
       "0  offer received  78afa995795e4d85b5d9ceeca43f5fef     0   \n",
       "1  offer received  a03223e636434f42ac4c3df47e8bac43     0   \n",
       "2  offer received  e2127556f4f64592b11af22de27a7932     0   \n",
       "3  offer received  8ec6ce2a7e7949b1bf142def7d0e0586     0   \n",
       "4  offer received  68617ca6246f4fbc85e91a2a49552598     0   \n",
       "\n",
       "                                              value  \n",
       "0  {'offer id': '9b98b8c7a33c4b65b9aebfe6a799e6d9'}  \n",
       "1  {'offer id': '0b1e1539f2cc45b7b9fa7c272da2e1d7'}  \n",
       "2  {'offer id': '2906b810c7d4411798c6938adc9daaa5'}  \n",
       "3  {'offer id': 'fafdcd668e3743c1bb461111dcafc2a4'}  \n",
       "4  {'offer id': '4d5c57ea9a6940dd891ad53e9dbe8da0'}  "
      ]
     },
     "execution_count": 6,
     "metadata": {},
     "output_type": "execute_result"
    }
   ],
   "source": [
    "transcript.head()"
   ]
  },
  {
   "cell_type": "code",
   "execution_count": 7,
   "metadata": {},
   "outputs": [
    {
     "name": "stdout",
     "output_type": "stream",
     "text": [
      "<class 'pandas.core.frame.DataFrame'>\n",
      "RangeIndex: 10 entries, 0 to 9\n",
      "Data columns (total 6 columns):\n",
      "channels      10 non-null object\n",
      "difficulty    10 non-null int64\n",
      "duration      10 non-null int64\n",
      "id            10 non-null object\n",
      "offer_type    10 non-null object\n",
      "reward        10 non-null int64\n",
      "dtypes: int64(3), object(3)\n",
      "memory usage: 560.0+ bytes\n"
     ]
    }
   ],
   "source": [
    "portfolio.info()"
   ]
  },
  {
   "cell_type": "code",
   "execution_count": 8,
   "metadata": {},
   "outputs": [
    {
     "name": "stdout",
     "output_type": "stream",
     "text": [
      "<class 'pandas.core.frame.DataFrame'>\n",
      "RangeIndex: 17000 entries, 0 to 16999\n",
      "Data columns (total 5 columns):\n",
      "age                 17000 non-null int64\n",
      "became_member_on    17000 non-null int64\n",
      "gender              14825 non-null object\n",
      "id                  17000 non-null object\n",
      "income              14825 non-null float64\n",
      "dtypes: float64(1), int64(2), object(2)\n",
      "memory usage: 664.1+ KB\n"
     ]
    }
   ],
   "source": [
    "profile.info()"
   ]
  },
  {
   "cell_type": "code",
   "execution_count": 9,
   "metadata": {},
   "outputs": [
    {
     "data": {
      "text/plain": [
       "array([None, 'F', 'M', 'O'], dtype=object)"
      ]
     },
     "execution_count": 9,
     "metadata": {},
     "output_type": "execute_result"
    }
   ],
   "source": [
    "profile.gender.unique()"
   ]
  },
  {
   "cell_type": "code",
   "execution_count": 10,
   "metadata": {},
   "outputs": [
    {
     "data": {
      "text/plain": [
       "<matplotlib.axes._subplots.AxesSubplot at 0x11a0a3b38>"
      ]
     },
     "execution_count": 10,
     "metadata": {},
     "output_type": "execute_result"
    },
    {
     "data": {
      "image/png": "[encoded data removed]",
      "text/plain": [
       "<Figure size 432x288 with 1 Axes>"
      ]
     },
     "metadata": {
      "needs_background": "light"
     },
     "output_type": "display_data"
    }
   ],
   "source": [
    "profile.age.plot(kind=\"hist\", bins=20)"
   ]
  },
  {
   "cell_type": "code",
   "execution_count": 11,
   "metadata": {
    "scrolled": true
   },
   "outputs": [
    {
     "data": {
      "text/plain": [
       "<matplotlib.axes._subplots.AxesSubplot at 0x11a0d5eb8>"
      ]
     },
     "execution_count": 11,
     "metadata": {},
     "output_type": "execute_result"
    },
    {
     "data": {
      "image/png": "[encoded data removed]",
      "text/plain": [
       "<Figure size 432x288 with 1 Axes>"
      ]
     },
     "metadata": {
      "needs_background": "light"
     },
     "output_type": "display_data"
    }
   ],
   "source": [
    "profile.income.plot(kind=\"hist\", bins=20)"
   ]
  },
  {
   "cell_type": "markdown",
   "metadata": {},
   "source": [
    "## Step 1: Access Data\n",
    "\n",
    "* Portfolia data:  \n",
    "    1. The attribute channels contains different channel in one cell.\n",
    "\n",
    "* Profile data:  \n",
    "    1. The attribute became_member_on is datetime type\n",
    "    2. The attribute gender has None that represents a missing value. And the value O represent \"ohter\", the value F represent \"Female\", and the ohter one M represent \"Male\"\n",
    "    3. The attribute age has abnormal value that is over 100, which maybe is the max value option\n",
    "\n",
    "* Transcript data:  \n",
    "    1. The attribute value is a dict data, which contain many information\n",
    "    2. There are some duplicated values"
   ]
  },
  {
   "cell_type": "code",
   "execution_count": 12,
   "metadata": {},
   "outputs": [],
   "source": [
    "# extract all channels\n",
    "channels_set = set()\n",
    "for i in portfolio.channels:\n",
    "    channels_set.update(set(i))"
   ]
  },
  {
   "cell_type": "code",
   "execution_count": 13,
   "metadata": {},
   "outputs": [
    {
     "data": {
      "text/plain": [
       "{'email', 'mobile', 'social', 'web'}"
      ]
     },
     "execution_count": 13,
     "metadata": {},
     "output_type": "execute_result"
    }
   ],
   "source": [
    "channels_set"
   ]
  },
  {
   "cell_type": "code",
   "execution_count": 14,
   "metadata": {},
   "outputs": [],
   "source": [
    "# split the channel into different attribute\n",
    "for i in channels_set:\n",
    "    portfolio[i] = portfolio.channels.apply(lambda x: i in x).map({True:1, False: 0})"
   ]
  },
  {
   "cell_type": "code",
   "execution_count": 15,
   "metadata": {},
   "outputs": [
    {
     "data": {
      "text/html": [
       "<div>\n",
       "<style scoped>\n",
       "    .dataframe tbody tr th:only-of-type {\n",
       "        vertical-align: middle;\n",
       "    }\n",
       "\n",
       "    .dataframe tbody tr th {\n",
       "        vertical-align: top;\n",
       "    }\n",
       "\n",
       "    .dataframe thead th {\n",
       "        text-align: right;\n",
       "    }\n",
       "</style>\n",
       "<table border=\"1\" class=\"dataframe\">\n",
       "  <thead>\n",
       "    <tr style=\"text-align: right;\">\n",
       "      <th></th>\n",
       "      <th>channels</th>\n",
       "      <th>difficulty</th>\n",
       "      <th>duration</th>\n",
       "      <th>id</th>\n",
       "      <th>offer_type</th>\n",
       "      <th>reward</th>\n",
       "      <th>mobile</th>\n",
       "      <th>social</th>\n",
       "      <th>email</th>\n",
       "      <th>web</th>\n",
       "    </tr>\n",
       "  </thead>\n",
       "  <tbody>\n",
       "    <tr>\n",
       "      <th>0</th>\n",
       "      <td>[email, mobile, social]</td>\n",
       "      <td>10</td>\n",
       "      <td>7</td>\n",
       "      <td>ae264e3637204a6fb9bb56bc8210ddfd</td>\n",
       "      <td>bogo</td>\n",
       "      <td>10</td>\n",
       "      <td>1</td>\n",
       "      <td>1</td>\n",
       "      <td>1</td>\n",
       "      <td>0</td>\n",
       "    </tr>\n",
       "    <tr>\n",
       "      <th>1</th>\n",
       "      <td>[web, email, mobile, social]</td>\n",
       "      <td>10</td>\n",
       "      <td>5</td>\n",
       "      <td>4d5c57ea9a6940dd891ad53e9dbe8da0</td>\n",
       "      <td>bogo</td>\n",
       "      <td>10</td>\n",
       "      <td>1</td>\n",
       "      <td>1</td>\n",
       "      <td>1</td>\n",
       "      <td>1</td>\n",
       "    </tr>\n",
       "    <tr>\n",
       "      <th>2</th>\n",
       "      <td>[web, email, mobile]</td>\n",
       "      <td>0</td>\n",
       "      <td>4</td>\n",
       "      <td>3f207df678b143eea3cee63160fa8bed</td>\n",
       "      <td>informational</td>\n",
       "      <td>0</td>\n",
       "      <td>1</td>\n",
       "      <td>0</td>\n",
       "      <td>1</td>\n",
       "      <td>1</td>\n",
       "    </tr>\n",
       "    <tr>\n",
       "      <th>3</th>\n",
       "      <td>[web, email, mobile]</td>\n",
       "      <td>5</td>\n",
       "      <td>7</td>\n",
       "      <td>9b98b8c7a33c4b65b9aebfe6a799e6d9</td>\n",
       "      <td>bogo</td>\n",
       "      <td>5</td>\n",
       "      <td>1</td>\n",
       "      <td>0</td>\n",
       "      <td>1</td>\n",
       "      <td>1</td>\n",
       "    </tr>\n",
       "    <tr>\n",
       "      <th>4</th>\n",
       "      <td>[web, email]</td>\n",
       "      <td>20</td>\n",
       "      <td>10</td>\n",
       "      <td>0b1e1539f2cc45b7b9fa7c272da2e1d7</td>\n",
       "      <td>discount</td>\n",
       "      <td>5</td>\n",
       "      <td>0</td>\n",
       "      <td>0</td>\n",
       "      <td>1</td>\n",
       "      <td>1</td>\n",
       "    </tr>\n",
       "  </tbody>\n",
       "</table>\n",
       "</div>"
      ],
      "text/plain": [
       "                       channels  difficulty  duration  \\\n",
       "0       [email, mobile, social]          10         7   \n",
       "1  [web, email, mobile, social]          10         5   \n",
       "2          [web, email, mobile]           0         4   \n",
       "3          [web, email, mobile]           5         7   \n",
       "4                  [web, email]          20        10   \n",
       "\n",
       "                                 id     offer_type  reward  mobile  social  \\\n",
       "0  ae264e3637204a6fb9bb56bc8210ddfd           bogo      10       1       1   \n",
       "1  4d5c57ea9a6940dd891ad53e9dbe8da0           bogo      10       1       1   \n",
       "2  3f207df678b143eea3cee63160fa8bed  informational       0       1       0   \n",
       "3  9b98b8c7a33c4b65b9aebfe6a799e6d9           bogo       5       1       0   \n",
       "4  0b1e1539f2cc45b7b9fa7c272da2e1d7       discount       5       0       0   \n",
       "\n",
       "   email  web  \n",
       "0      1    0  \n",
       "1      1    1  \n",
       "2      1    1  \n",
       "3      1    1  \n",
       "4      1    1  "
      ]
     },
     "execution_count": 15,
     "metadata": {},
     "output_type": "execute_result"
    }
   ],
   "source": [
    "portfolio.head()"
   ]
  },
  {
   "cell_type": "code",
   "execution_count": 16,
   "metadata": {},
   "outputs": [],
   "source": [
    "# convert the datatype into datetime\n",
    "profile[\"became_member_on\"] = pd.to_datetime(profile.became_member_on.apply(str))\n",
    "profile[\"became_member_year\"] = profile.became_member_on.dt.year\n",
    "profile[\"became_member_month\"] = profile.became_member_on.dt.month"
   ]
  },
  {
   "cell_type": "code",
   "execution_count": 17,
   "metadata": {},
   "outputs": [],
   "source": [
    "# parse the information about the gender\n",
    "profile[\"gender\"] = profile.gender.map({\"None\":np.nan, \"F\":\"Female\", \"M\":\"Male\", \"O\": \"Other\"})"
   ]
  },
  {
   "cell_type": "code",
   "execution_count": 18,
   "metadata": {},
   "outputs": [],
   "source": [
    "# fix the abnormal values about the attribute age\n",
    "profile.loc[profile.age == 118, \"age\"] = np.nan"
   ]
  },
  {
   "cell_type": "code",
   "execution_count": 19,
   "metadata": {},
   "outputs": [
    {
     "data": {
      "text/html": [
       "<div>\n",
       "<style scoped>\n",
       "    .dataframe tbody tr th:only-of-type {\n",
       "        vertical-align: middle;\n",
       "    }\n",
       "\n",
       "    .dataframe tbody tr th {\n",
       "        vertical-align: top;\n",
       "    }\n",
       "\n",
       "    .dataframe thead th {\n",
       "        text-align: right;\n",
       "    }\n",
       "</style>\n",
       "<table border=\"1\" class=\"dataframe\">\n",
       "  <thead>\n",
       "    <tr style=\"text-align: right;\">\n",
       "      <th></th>\n",
       "      <th>age</th>\n",
       "      <th>became_member_on</th>\n",
       "      <th>gender</th>\n",
       "      <th>id</th>\n",
       "      <th>income</th>\n",
       "      <th>became_member_year</th>\n",
       "      <th>became_member_month</th>\n",
       "    </tr>\n",
       "  </thead>\n",
       "  <tbody>\n",
       "    <tr>\n",
       "      <th>0</th>\n",
       "      <td>NaN</td>\n",
       "      <td>2017-02-12</td>\n",
       "      <td>NaN</td>\n",
       "      <td>68be06ca386d4c31939f3a4f0e3dd783</td>\n",
       "      <td>NaN</td>\n",
       "      <td>2017</td>\n",
       "      <td>2</td>\n",
       "    </tr>\n",
       "    <tr>\n",
       "      <th>1</th>\n",
       "      <td>55.0</td>\n",
       "      <td>2017-07-15</td>\n",
       "      <td>Female</td>\n",
       "      <td>0610b486422d4921ae7d2bf64640c50b</td>\n",
       "      <td>112000.0</td>\n",
       "      <td>2017</td>\n",
       "      <td>7</td>\n",
       "    </tr>\n",
       "    <tr>\n",
       "      <th>2</th>\n",
       "      <td>NaN</td>\n",
       "      <td>2018-07-12</td>\n",
       "      <td>NaN</td>\n",
       "      <td>38fe809add3b4fcf9315a9694bb96ff5</td>\n",
       "      <td>NaN</td>\n",
       "      <td>2018</td>\n",
       "      <td>7</td>\n",
       "    </tr>\n",
       "    <tr>\n",
       "      <th>3</th>\n",
       "      <td>75.0</td>\n",
       "      <td>2017-05-09</td>\n",
       "      <td>Female</td>\n",
       "      <td>78afa995795e4d85b5d9ceeca43f5fef</td>\n",
       "      <td>100000.0</td>\n",
       "      <td>2017</td>\n",
       "      <td>5</td>\n",
       "    </tr>\n",
       "    <tr>\n",
       "      <th>4</th>\n",
       "      <td>NaN</td>\n",
       "      <td>2017-08-04</td>\n",
       "      <td>NaN</td>\n",
       "      <td>a03223e636434f42ac4c3df47e8bac43</td>\n",
       "      <td>NaN</td>\n",
       "      <td>2017</td>\n",
       "      <td>8</td>\n",
       "    </tr>\n",
       "  </tbody>\n",
       "</table>\n",
       "</div>"
      ],
      "text/plain": [
       "    age became_member_on  gender                                id    income  \\\n",
       "0   NaN       2017-02-12     NaN  68be06ca386d4c31939f3a4f0e3dd783       NaN   \n",
       "1  55.0       2017-07-15  Female  0610b486422d4921ae7d2bf64640c50b  112000.0   \n",
       "2   NaN       2018-07-12     NaN  38fe809add3b4fcf9315a9694bb96ff5       NaN   \n",
       "3  75.0       2017-05-09  Female  78afa995795e4d85b5d9ceeca43f5fef  100000.0   \n",
       "4   NaN       2017-08-04     NaN  a03223e636434f42ac4c3df47e8bac43       NaN   \n",
       "\n",
       "   became_member_year  became_member_month  \n",
       "0                2017                    2  \n",
       "1                2017                    7  \n",
       "2                2018                    7  \n",
       "3                2017                    5  \n",
       "4                2017                    8  "
      ]
     },
     "execution_count": 19,
     "metadata": {},
     "output_type": "execute_result"
    }
   ],
   "source": [
    "profile.head()"
   ]
  },
  {
   "cell_type": "code",
   "execution_count": 20,
   "metadata": {},
   "outputs": [],
   "source": [
    "# get the all kinds of the transcript type value\n",
    "transcript_type = set()\n",
    "for i in transcript.value:\n",
    "    transcript_type.update(set(i.keys()))"
   ]
  },
  {
   "cell_type": "code",
   "execution_count": 21,
   "metadata": {},
   "outputs": [
    {
     "data": {
      "text/plain": [
       "{'amount', 'offer id', 'offer_id', 'reward'}"
      ]
     },
     "execution_count": 21,
     "metadata": {},
     "output_type": "execute_result"
    }
   ],
   "source": [
    "transcript_type"
   ]
  },
  {
   "cell_type": "code",
   "execution_count": 22,
   "metadata": {},
   "outputs": [],
   "source": [
    "for i in [\"amount\", \"reward\"]:\n",
    "    transcript[i] = transcript.value.apply(lambda x: x[i] if i in x else np.nan)"
   ]
  },
  {
   "cell_type": "code",
   "execution_count": 23,
   "metadata": {},
   "outputs": [],
   "source": [
    "transcript[\"offer_id\"] = transcript.value.apply(preprocess.parse_offer_id)\n",
    "transcript[\"event\"] = transcript.event.map({\n",
    "    \"offer completed\": \"offer_completed\", \"offer received\": \"offer_received\",\n",
    "    \"offer viewed\":\"offer_viewed\"\n",
    "})"
   ]
  },
  {
   "cell_type": "code",
   "execution_count": 24,
   "metadata": {},
   "outputs": [
    {
     "data": {
      "text/html": [
       "<div>\n",
       "<style scoped>\n",
       "    .dataframe tbody tr th:only-of-type {\n",
       "        vertical-align: middle;\n",
       "    }\n",
       "\n",
       "    .dataframe tbody tr th {\n",
       "        vertical-align: top;\n",
       "    }\n",
       "\n",
       "    .dataframe thead th {\n",
       "        text-align: right;\n",
       "    }\n",
       "</style>\n",
       "<table border=\"1\" class=\"dataframe\">\n",
       "  <thead>\n",
       "    <tr style=\"text-align: right;\">\n",
       "      <th></th>\n",
       "      <th>event</th>\n",
       "      <th>person</th>\n",
       "      <th>time</th>\n",
       "      <th>value</th>\n",
       "      <th>amount</th>\n",
       "      <th>reward</th>\n",
       "      <th>offer_id</th>\n",
       "    </tr>\n",
       "  </thead>\n",
       "  <tbody>\n",
       "    <tr>\n",
       "      <th>0</th>\n",
       "      <td>offer_received</td>\n",
       "      <td>78afa995795e4d85b5d9ceeca43f5fef</td>\n",
       "      <td>0</td>\n",
       "      <td>{'offer id': '9b98b8c7a33c4b65b9aebfe6a799e6d9'}</td>\n",
       "      <td>NaN</td>\n",
       "      <td>NaN</td>\n",
       "      <td>9b98b8c7a33c4b65b9aebfe6a799e6d9</td>\n",
       "    </tr>\n",
       "    <tr>\n",
       "      <th>1</th>\n",
       "      <td>offer_received</td>\n",
       "      <td>a03223e636434f42ac4c3df47e8bac43</td>\n",
       "      <td>0</td>\n",
       "      <td>{'offer id': '0b1e1539f2cc45b7b9fa7c272da2e1d7'}</td>\n",
       "      <td>NaN</td>\n",
       "      <td>NaN</td>\n",
       "      <td>0b1e1539f2cc45b7b9fa7c272da2e1d7</td>\n",
       "    </tr>\n",
       "    <tr>\n",
       "      <th>2</th>\n",
       "      <td>offer_received</td>\n",
       "      <td>e2127556f4f64592b11af22de27a7932</td>\n",
       "      <td>0</td>\n",
       "      <td>{'offer id': '2906b810c7d4411798c6938adc9daaa5'}</td>\n",
       "      <td>NaN</td>\n",
       "      <td>NaN</td>\n",
       "      <td>2906b810c7d4411798c6938adc9daaa5</td>\n",
       "    </tr>\n",
       "    <tr>\n",
       "      <th>3</th>\n",
       "      <td>offer_received</td>\n",
       "      <td>8ec6ce2a7e7949b1bf142def7d0e0586</td>\n",
       "      <td>0</td>\n",
       "      <td>{'offer id': 'fafdcd668e3743c1bb461111dcafc2a4'}</td>\n",
       "      <td>NaN</td>\n",
       "      <td>NaN</td>\n",
       "      <td>fafdcd668e3743c1bb461111dcafc2a4</td>\n",
       "    </tr>\n",
       "    <tr>\n",
       "      <th>4</th>\n",
       "      <td>offer_received</td>\n",
       "      <td>68617ca6246f4fbc85e91a2a49552598</td>\n",
       "      <td>0</td>\n",
       "      <td>{'offer id': '4d5c57ea9a6940dd891ad53e9dbe8da0'}</td>\n",
       "      <td>NaN</td>\n",
       "      <td>NaN</td>\n",
       "      <td>4d5c57ea9a6940dd891ad53e9dbe8da0</td>\n",
       "    </tr>\n",
       "  </tbody>\n",
       "</table>\n",
       "</div>"
      ],
      "text/plain": [
       "            event                            person  time  \\\n",
       "0  offer_received  78afa995795e4d85b5d9ceeca43f5fef     0   \n",
       "1  offer_received  a03223e636434f42ac4c3df47e8bac43     0   \n",
       "2  offer_received  e2127556f4f64592b11af22de27a7932     0   \n",
       "3  offer_received  8ec6ce2a7e7949b1bf142def7d0e0586     0   \n",
       "4  offer_received  68617ca6246f4fbc85e91a2a49552598     0   \n",
       "\n",
       "                                              value  amount  reward  \\\n",
       "0  {'offer id': '9b98b8c7a33c4b65b9aebfe6a799e6d9'}     NaN     NaN   \n",
       "1  {'offer id': '0b1e1539f2cc45b7b9fa7c272da2e1d7'}     NaN     NaN   \n",
       "2  {'offer id': '2906b810c7d4411798c6938adc9daaa5'}     NaN     NaN   \n",
       "3  {'offer id': 'fafdcd668e3743c1bb461111dcafc2a4'}     NaN     NaN   \n",
       "4  {'offer id': '4d5c57ea9a6940dd891ad53e9dbe8da0'}     NaN     NaN   \n",
       "\n",
       "                           offer_id  \n",
       "0  9b98b8c7a33c4b65b9aebfe6a799e6d9  \n",
       "1  0b1e1539f2cc45b7b9fa7c272da2e1d7  \n",
       "2  2906b810c7d4411798c6938adc9daaa5  \n",
       "3  fafdcd668e3743c1bb461111dcafc2a4  \n",
       "4  4d5c57ea9a6940dd891ad53e9dbe8da0  "
      ]
     },
     "execution_count": 24,
     "metadata": {},
     "output_type": "execute_result"
    }
   ],
   "source": [
    "transcript.head()"
   ]
  },
  {
   "cell_type": "code",
   "execution_count": 25,
   "metadata": {},
   "outputs": [],
   "source": [
    "# drop the unnessary attribute\n",
    "portfolio.drop(\"channels\", axis=1, inplace=True)\n",
    "transcript.drop(\"value\", axis=1, inplace=True)"
   ]
  },
  {
   "cell_type": "code",
   "execution_count": 26,
   "metadata": {},
   "outputs": [
    {
     "data": {
      "text/plain": [
       "(397, 0, 0)"
      ]
     },
     "execution_count": 26,
     "metadata": {},
     "output_type": "execute_result"
    }
   ],
   "source": [
    "# access the duplicate values\n",
    "transcript.duplicated().sum(), portfolio.duplicated().sum(), profile.duplicated().sum()"
   ]
  },
  {
   "cell_type": "code",
   "execution_count": 27,
   "metadata": {},
   "outputs": [],
   "source": [
    "# drop the duplicated value, and reset the index\n",
    "transcript.drop_duplicates(inplace=True)\n",
    "\n",
    "transcript.reset_index(drop=True, inplace=True)"
   ]
  },
  {
   "cell_type": "code",
   "execution_count": 28,
   "metadata": {},
   "outputs": [
    {
     "data": {
      "image/png": "[encoded data removed]",
      "text/plain": [
       "<Figure size 720x504 with 2 Axes>"
      ]
     },
     "metadata": {},
     "output_type": "display_data"
    }
   ],
   "source": [
    "# deal with the income value\n",
    "with warnings.catch_warnings(),sns.axes_style(\"dark\"), sns.plotting_context(\"paper\", font_scale=2):\n",
    "    warnings.simplefilter(\"ignore\")\n",
    "    \n",
    "    plt.figure(1, figsize=(10, 7))\n",
    "    ax1 = plt.axes([0, 0.95, 1, .05])\n",
    "    ax2 = plt.axes([0, 1, 1, 1], sharex=ax1)\n",
    "\n",
    "    sns.boxplot(profile.loc[profile.income.notnull(), \"income\"], ax=ax1, color=\"#98C6F7\", saturation=1)\n",
    "    sns.distplot(profile.income.fillna(0), ax=ax2, bins=20, color=\"dodgerblue\")\n",
    "\n",
    "    ax2.set_xlabel(\"\")\n",
    "    ax2.tick_params(bottom=False, labelbottom=False)\n",
    "    ax2.patches[0].set_color(\"black\")\n",
    "    ax2.patches[1].set_color(\"dodgerblue\")\n",
    "    ax2.patches[0].set_label(\"Missing Value\")\n",
    "    ax2.patches[1].set_label(\"None Missing Value\")\n",
    "    ax2.spines[\"bottom\"].set_visible(False)\n",
    "    ax1.spines[\"top\"].set_visible(False)\n",
    "    \n",
    "    plt.title(\"The Distribtion Of The Users' Income\", fontsize=20, loc=\"left\")\n",
    "    plt.legend()\n",
    "\n",
    "    plt.show()"
   ]
  },
  {
   "cell_type": "code",
   "execution_count": 29,
   "metadata": {},
   "outputs": [],
   "source": [
    "# split the income into four different level\n",
    "profile[\"income_fix\"] = \\\n",
    "    pd.qcut(profile.income, 4, labels=[\"low\", \"medium\", \"medium_high\", \"high\"])\n",
    "\n",
    "# reset the category order and fill the missing value with unknown\n",
    "profile.income_fix.cat.set_categories([\"unknown\", \"low\", \"medium\", \"medium_high\", \"high\"], \n",
    "                                      ordered=True, inplace=True)\n",
    "profile.income_fix.fillna(\"unknown\", inplace=True)"
   ]
  },
  {
   "cell_type": "code",
   "execution_count": 30,
   "metadata": {},
   "outputs": [
    {
     "data": {
      "text/plain": [
       "(58.0, 54.39352445193929, 55.0)"
      ]
     },
     "execution_count": 30,
     "metadata": {},
     "output_type": "execute_result"
    }
   ],
   "source": [
    "profile.age.mode()[0], profile.age.mean(), profile.age.median()"
   ]
  },
  {
   "cell_type": "code",
   "execution_count": 31,
   "metadata": {},
   "outputs": [
    {
     "data": {
      "text/plain": [
       "NaN      0.127941\n",
       " 58.0    0.024000\n",
       " 53.0    0.021882\n",
       " 51.0    0.021353\n",
       " 59.0    0.021118\n",
       "Name: age, dtype: float64"
      ]
     },
     "execution_count": 31,
     "metadata": {},
     "output_type": "execute_result"
    }
   ],
   "source": [
    "profile.age.value_counts(dropna=False, normalize=True).nlargest(5)"
   ]
  },
  {
   "cell_type": "code",
   "execution_count": 32,
   "metadata": {},
   "outputs": [],
   "source": [
    "# deal with age missing value\n",
    "profile[\"age_fix\"] = \\\n",
    "    pd.qcut(profile.age, 3, labels=[\"young\", \"middle\", \"old\"])\n",
    "\n",
    "profile.age_fix.fillna(\"middle\", inplace=True)"
   ]
  },
  {
   "cell_type": "code",
   "execution_count": 33,
   "metadata": {},
   "outputs": [
    {
     "data": {
      "image/png": "[encoded data removed]",
      "text/plain": [
       "<Figure size 864x648 with 1 Axes>"
      ]
     },
     "metadata": {},
     "output_type": "display_data"
    }
   ],
   "source": [
    "with sns.axes_style(\"dark\"), sns.plotting_context(\"paper\", font_scale=1.5):\n",
    "    plt.figure(figsize=(12, 9))\n",
    "    ax = plt.subplot()\n",
    "    profile.gender.value_counts(dropna=False).plot(kind=\"bar\", color=\"#98C6F7\", rot=0)\n",
    "    \n",
    "    preprocess.bar_value(profile.gender.value_counts(dropna=False), xpad=-.05, ypad=50)\n",
    "    \n",
    "    ax.tick_params(axis=\"y\", labelleft=False)\n",
    "    ax.patches[2].set_color(\"#8C8C91\")\n",
    "    \n",
    "    ax.set_title(\"Bar Plot About The Different Gender\", loc=\"left\", fontsize=20)"
   ]
  },
  {
   "cell_type": "code",
   "execution_count": 34,
   "metadata": {},
   "outputs": [],
   "source": [
    "# fill the missing value of the gender\n",
    "profile.gender.fillna(\"unknown\", inplace=True)"
   ]
  },
  {
   "cell_type": "markdown",
   "metadata": {},
   "source": [
    "## Step 2: Preprocess Data\n",
    "\n",
    "### 2.0 Data Wrangling Simply\n",
    "* Portfolia data:  \n",
    "    1. Get the different channel to store in different attribute\n",
    "\n",
    "* Profile data:  \n",
    "    1. Convert the attribute became_member_on to datetime type\n",
    "    2. Parse the month and the year information from the became_member_on\n",
    "    3. Transfrom the attribute gender value to the original value, and fill the missing value with unknown\n",
    "    4. The attribute age abnormal value translate to missing value in temporary. According to another appendix information about the users age statistics, the main users' age is between 22 - 60, which agrees with the main distribution in the data. So we use the value middle to fill the missing value\n",
    "    5. The users income is a right skewness, and the number of the missing values are very large. Now we take a new to deal with the income value. Firstly, we so we divide the the user into the different income level. Secondly, we deal with the missing value as a new type.\n",
    "\n",
    "* Transcript data:  \n",
    "    1. Transform the attribute value into the different attribute\n",
    "    2. Drop the duplicated values\n",
    "\n",
    "Finally, we need to merge the dataset, then there are new some missing value need to be fixed, like offer_type, event. We create a new attribute coresponded to the original attributue, and fill the missing value:\n",
    "1. The feature offer_type match the the offer_type_fix, and fill the missing value with the value No_offer\n",
    "2. The feature event match the event_fix, and fill the missing value with the value offer_completed"
   ]
  },
  {
   "cell_type": "code",
   "execution_count": 35,
   "metadata": {},
   "outputs": [
    {
     "data": {
      "text/html": [
       "<div>\n",
       "<style scoped>\n",
       "    .dataframe tbody tr th:only-of-type {\n",
       "        vertical-align: middle;\n",
       "    }\n",
       "\n",
       "    .dataframe tbody tr th {\n",
       "        vertical-align: top;\n",
       "    }\n",
       "\n",
       "    .dataframe thead th {\n",
       "        text-align: right;\n",
       "    }\n",
       "</style>\n",
       "<table border=\"1\" class=\"dataframe\">\n",
       "  <thead>\n",
       "    <tr style=\"text-align: right;\">\n",
       "      <th></th>\n",
       "      <th>difficulty</th>\n",
       "      <th>duration</th>\n",
       "      <th>id</th>\n",
       "      <th>offer_type</th>\n",
       "      <th>reward</th>\n",
       "      <th>mobile</th>\n",
       "      <th>social</th>\n",
       "      <th>email</th>\n",
       "      <th>web</th>\n",
       "    </tr>\n",
       "  </thead>\n",
       "  <tbody>\n",
       "    <tr>\n",
       "      <th>0</th>\n",
       "      <td>10</td>\n",
       "      <td>7</td>\n",
       "      <td>ae264e3637204a6fb9bb56bc8210ddfd</td>\n",
       "      <td>bogo</td>\n",
       "      <td>10</td>\n",
       "      <td>1</td>\n",
       "      <td>1</td>\n",
       "      <td>1</td>\n",
       "      <td>0</td>\n",
       "    </tr>\n",
       "    <tr>\n",
       "      <th>1</th>\n",
       "      <td>10</td>\n",
       "      <td>5</td>\n",
       "      <td>4d5c57ea9a6940dd891ad53e9dbe8da0</td>\n",
       "      <td>bogo</td>\n",
       "      <td>10</td>\n",
       "      <td>1</td>\n",
       "      <td>1</td>\n",
       "      <td>1</td>\n",
       "      <td>1</td>\n",
       "    </tr>\n",
       "  </tbody>\n",
       "</table>\n",
       "</div>"
      ],
      "text/plain": [
       "   difficulty  duration                                id offer_type  reward  \\\n",
       "0          10         7  ae264e3637204a6fb9bb56bc8210ddfd       bogo      10   \n",
       "1          10         5  4d5c57ea9a6940dd891ad53e9dbe8da0       bogo      10   \n",
       "\n",
       "   mobile  social  email  web  \n",
       "0       1       1      1    0  \n",
       "1       1       1      1    1  "
      ]
     },
     "execution_count": 35,
     "metadata": {},
     "output_type": "execute_result"
    }
   ],
   "source": [
    "portfolio.head(2)"
   ]
  },
  {
   "cell_type": "code",
   "execution_count": 36,
   "metadata": {},
   "outputs": [
    {
     "data": {
      "text/html": [
       "<div>\n",
       "<style scoped>\n",
       "    .dataframe tbody tr th:only-of-type {\n",
       "        vertical-align: middle;\n",
       "    }\n",
       "\n",
       "    .dataframe tbody tr th {\n",
       "        vertical-align: top;\n",
       "    }\n",
       "\n",
       "    .dataframe thead th {\n",
       "        text-align: right;\n",
       "    }\n",
       "</style>\n",
       "<table border=\"1\" class=\"dataframe\">\n",
       "  <thead>\n",
       "    <tr style=\"text-align: right;\">\n",
       "      <th></th>\n",
       "      <th>age</th>\n",
       "      <th>became_member_on</th>\n",
       "      <th>gender</th>\n",
       "      <th>id</th>\n",
       "      <th>income</th>\n",
       "      <th>became_member_year</th>\n",
       "      <th>became_member_month</th>\n",
       "      <th>income_fix</th>\n",
       "      <th>age_fix</th>\n",
       "    </tr>\n",
       "  </thead>\n",
       "  <tbody>\n",
       "    <tr>\n",
       "      <th>0</th>\n",
       "      <td>NaN</td>\n",
       "      <td>2017-02-12</td>\n",
       "      <td>unknown</td>\n",
       "      <td>68be06ca386d4c31939f3a4f0e3dd783</td>\n",
       "      <td>NaN</td>\n",
       "      <td>2017</td>\n",
       "      <td>2</td>\n",
       "      <td>unknown</td>\n",
       "      <td>middle</td>\n",
       "    </tr>\n",
       "    <tr>\n",
       "      <th>1</th>\n",
       "      <td>55.0</td>\n",
       "      <td>2017-07-15</td>\n",
       "      <td>Female</td>\n",
       "      <td>0610b486422d4921ae7d2bf64640c50b</td>\n",
       "      <td>112000.0</td>\n",
       "      <td>2017</td>\n",
       "      <td>7</td>\n",
       "      <td>high</td>\n",
       "      <td>middle</td>\n",
       "    </tr>\n",
       "  </tbody>\n",
       "</table>\n",
       "</div>"
      ],
      "text/plain": [
       "    age became_member_on   gender                                id    income  \\\n",
       "0   NaN       2017-02-12  unknown  68be06ca386d4c31939f3a4f0e3dd783       NaN   \n",
       "1  55.0       2017-07-15   Female  0610b486422d4921ae7d2bf64640c50b  112000.0   \n",
       "\n",
       "   became_member_year  became_member_month income_fix age_fix  \n",
       "0                2017                    2    unknown  middle  \n",
       "1                2017                    7       high  middle  "
      ]
     },
     "execution_count": 36,
     "metadata": {},
     "output_type": "execute_result"
    }
   ],
   "source": [
    "profile.head(2)"
   ]
  },
  {
   "cell_type": "code",
   "execution_count": 37,
   "metadata": {},
   "outputs": [
    {
     "data": {
      "text/html": [
       "<div>\n",
       "<style scoped>\n",
       "    .dataframe tbody tr th:only-of-type {\n",
       "        vertical-align: middle;\n",
       "    }\n",
       "\n",
       "    .dataframe tbody tr th {\n",
       "        vertical-align: top;\n",
       "    }\n",
       "\n",
       "    .dataframe thead th {\n",
       "        text-align: right;\n",
       "    }\n",
       "</style>\n",
       "<table border=\"1\" class=\"dataframe\">\n",
       "  <thead>\n",
       "    <tr style=\"text-align: right;\">\n",
       "      <th></th>\n",
       "      <th>event</th>\n",
       "      <th>person</th>\n",
       "      <th>time</th>\n",
       "      <th>amount</th>\n",
       "      <th>reward</th>\n",
       "      <th>offer_id</th>\n",
       "    </tr>\n",
       "  </thead>\n",
       "  <tbody>\n",
       "    <tr>\n",
       "      <th>0</th>\n",
       "      <td>offer_received</td>\n",
       "      <td>78afa995795e4d85b5d9ceeca43f5fef</td>\n",
       "      <td>0</td>\n",
       "      <td>NaN</td>\n",
       "      <td>NaN</td>\n",
       "      <td>9b98b8c7a33c4b65b9aebfe6a799e6d9</td>\n",
       "    </tr>\n",
       "    <tr>\n",
       "      <th>1</th>\n",
       "      <td>offer_received</td>\n",
       "      <td>a03223e636434f42ac4c3df47e8bac43</td>\n",
       "      <td>0</td>\n",
       "      <td>NaN</td>\n",
       "      <td>NaN</td>\n",
       "      <td>0b1e1539f2cc45b7b9fa7c272da2e1d7</td>\n",
       "    </tr>\n",
       "  </tbody>\n",
       "</table>\n",
       "</div>"
      ],
      "text/plain": [
       "            event                            person  time  amount  reward  \\\n",
       "0  offer_received  78afa995795e4d85b5d9ceeca43f5fef     0     NaN     NaN   \n",
       "1  offer_received  a03223e636434f42ac4c3df47e8bac43     0     NaN     NaN   \n",
       "\n",
       "                           offer_id  \n",
       "0  9b98b8c7a33c4b65b9aebfe6a799e6d9  \n",
       "1  0b1e1539f2cc45b7b9fa7c272da2e1d7  "
      ]
     },
     "execution_count": 37,
     "metadata": {},
     "output_type": "execute_result"
    }
   ],
   "source": [
    "transcript.head(2)"
   ]
  },
  {
   "cell_type": "code",
   "execution_count": 38,
   "metadata": {},
   "outputs": [],
   "source": [
    "# merge the data\n",
    "data = transcript.merge(profile, how=\"left\", left_on=\"person\", right_on=\"id\", validate=\"m:1\")\n",
    "data.drop(\"id\", inplace=True, axis=1)\n",
    "data = data.merge(portfolio, how=\"left\", left_on=\"offer_id\", right_on=\"id\", validate=\"m:1\",\n",
    "                 suffixes=(\"_transcript\", \"_portfolia\"))\n",
    "data.drop(\"id\", inplace=True, axis=1)"
   ]
  },
  {
   "cell_type": "code",
   "execution_count": 39,
   "metadata": {
    "scrolled": true
   },
   "outputs": [
    {
     "data": {
      "text/html": [
       "<div>\n",
       "<style scoped>\n",
       "    .dataframe tbody tr th:only-of-type {\n",
       "        vertical-align: middle;\n",
       "    }\n",
       "\n",
       "    .dataframe tbody tr th {\n",
       "        vertical-align: top;\n",
       "    }\n",
       "\n",
       "    .dataframe thead th {\n",
       "        text-align: right;\n",
       "    }\n",
       "</style>\n",
       "<table border=\"1\" class=\"dataframe\">\n",
       "  <thead>\n",
       "    <tr style=\"text-align: right;\">\n",
       "      <th></th>\n",
       "      <th>event</th>\n",
       "      <th>person</th>\n",
       "      <th>time</th>\n",
       "      <th>amount</th>\n",
       "      <th>reward_transcript</th>\n",
       "      <th>offer_id</th>\n",
       "      <th>age</th>\n",
       "      <th>became_member_on</th>\n",
       "      <th>gender</th>\n",
       "      <th>income</th>\n",
       "      <th>...</th>\n",
       "      <th>income_fix</th>\n",
       "      <th>age_fix</th>\n",
       "      <th>difficulty</th>\n",
       "      <th>duration</th>\n",
       "      <th>offer_type</th>\n",
       "      <th>reward_portfolia</th>\n",
       "      <th>mobile</th>\n",
       "      <th>social</th>\n",
       "      <th>email</th>\n",
       "      <th>web</th>\n",
       "    </tr>\n",
       "  </thead>\n",
       "  <tbody>\n",
       "    <tr>\n",
       "      <th>0</th>\n",
       "      <td>offer_received</td>\n",
       "      <td>78afa995795e4d85b5d9ceeca43f5fef</td>\n",
       "      <td>0</td>\n",
       "      <td>NaN</td>\n",
       "      <td>NaN</td>\n",
       "      <td>9b98b8c7a33c4b65b9aebfe6a799e6d9</td>\n",
       "      <td>75.0</td>\n",
       "      <td>2017-05-09</td>\n",
       "      <td>Female</td>\n",
       "      <td>100000.0</td>\n",
       "      <td>...</td>\n",
       "      <td>high</td>\n",
       "      <td>old</td>\n",
       "      <td>5.0</td>\n",
       "      <td>7.0</td>\n",
       "      <td>bogo</td>\n",
       "      <td>5.0</td>\n",
       "      <td>1.0</td>\n",
       "      <td>0.0</td>\n",
       "      <td>1.0</td>\n",
       "      <td>1.0</td>\n",
       "    </tr>\n",
       "    <tr>\n",
       "      <th>1</th>\n",
       "      <td>offer_received</td>\n",
       "      <td>a03223e636434f42ac4c3df47e8bac43</td>\n",
       "      <td>0</td>\n",
       "      <td>NaN</td>\n",
       "      <td>NaN</td>\n",
       "      <td>0b1e1539f2cc45b7b9fa7c272da2e1d7</td>\n",
       "      <td>NaN</td>\n",
       "      <td>2017-08-04</td>\n",
       "      <td>unknown</td>\n",
       "      <td>NaN</td>\n",
       "      <td>...</td>\n",
       "      <td>unknown</td>\n",
       "      <td>middle</td>\n",
       "      <td>20.0</td>\n",
       "      <td>10.0</td>\n",
       "      <td>discount</td>\n",
       "      <td>5.0</td>\n",
       "      <td>0.0</td>\n",
       "      <td>0.0</td>\n",
       "      <td>1.0</td>\n",
       "      <td>1.0</td>\n",
       "    </tr>\n",
       "  </tbody>\n",
       "</table>\n",
       "<p>2 rows × 22 columns</p>\n",
       "</div>"
      ],
      "text/plain": [
       "            event                            person  time  amount  \\\n",
       "0  offer_received  78afa995795e4d85b5d9ceeca43f5fef     0     NaN   \n",
       "1  offer_received  a03223e636434f42ac4c3df47e8bac43     0     NaN   \n",
       "\n",
       "   reward_transcript                          offer_id   age became_member_on  \\\n",
       "0                NaN  9b98b8c7a33c4b65b9aebfe6a799e6d9  75.0       2017-05-09   \n",
       "1                NaN  0b1e1539f2cc45b7b9fa7c272da2e1d7   NaN       2017-08-04   \n",
       "\n",
       "    gender    income ...   income_fix  age_fix difficulty duration  \\\n",
       "0   Female  100000.0 ...         high      old        5.0      7.0   \n",
       "1  unknown       NaN ...      unknown   middle       20.0     10.0   \n",
       "\n",
       "   offer_type  reward_portfolia mobile  social  email  web  \n",
       "0        bogo               5.0    1.0     0.0    1.0  1.0  \n",
       "1    discount               5.0    0.0     0.0    1.0  1.0  \n",
       "\n",
       "[2 rows x 22 columns]"
      ]
     },
     "execution_count": 39,
     "metadata": {},
     "output_type": "execute_result"
    }
   ],
   "source": [
    "data.head(2)"
   ]
  },
  {
   "cell_type": "code",
   "execution_count": 40,
   "metadata": {},
   "outputs": [],
   "source": [
    "data[\"offer_type_fix\"] = data.offer_type.fillna(\"No_offer\")\n",
    "data[\"event_fix\"] = data.event\n",
    "data.loc[data.offer_id.isnull(), \"event_fix\"] = \"No_offer_completed\""
   ]
  },
  {
   "cell_type": "markdown",
   "metadata": {},
   "source": [
    "### 2.1 Analysis The Number Of Different Transanction Event With Offer\n",
    "We want to caculate the number of the offer complet progress. Now we group the person, the different offer, and the offer event; at the next step, we must split the number of event by the different people and the different offer id. Before we finish the step, we use the pivot_table metho to count the number."
   ]
  },
  {
   "cell_type": "code",
   "execution_count": 41,
   "metadata": {},
   "outputs": [],
   "source": [
    "group_data = data.groupby([\"person\", \"offer_id\", \"event\"]).size().reset_index()\n",
    "group_data.rename({0:\"count\"}, axis=1, inplace=True)\n",
    "offer_person = group_data.pivot_table(\n",
    "    index=[\"person\", \"offer_id\"],  columns=[\"event\"], values=[\"count\"], aggfunc=\"count\"\n",
    "    ).reset_index()\n",
    "offer_person.columns = [\"person\", \"offer_id\", \"offer_completed\", \"offer_received\", \"offer_viewed\"]"
   ]
  },
  {
   "cell_type": "code",
   "execution_count": 42,
   "metadata": {},
   "outputs": [],
   "source": [
    "# fill the missing value with 0\n",
    "offer_person.fillna(0, inplace=True)"
   ]
  },
  {
   "cell_type": "code",
   "execution_count": 43,
   "metadata": {
    "scrolled": true
   },
   "outputs": [],
   "source": [
    "offer_person = offer_person.merge(portfolio, left_on=\"offer_id\", right_on=\"id\", how=\"left\")\n",
    "offer_person.drop(\"id\", axis=1, inplace=True)"
   ]
  },
  {
   "cell_type": "code",
   "execution_count": 44,
   "metadata": {},
   "outputs": [
    {
     "data": {
      "text/html": [
       "<div>\n",
       "<style scoped>\n",
       "    .dataframe tbody tr th:only-of-type {\n",
       "        vertical-align: middle;\n",
       "    }\n",
       "\n",
       "    .dataframe tbody tr th {\n",
       "        vertical-align: top;\n",
       "    }\n",
       "\n",
       "    .dataframe thead th {\n",
       "        text-align: right;\n",
       "    }\n",
       "</style>\n",
       "<table border=\"1\" class=\"dataframe\">\n",
       "  <thead>\n",
       "    <tr style=\"text-align: right;\">\n",
       "      <th></th>\n",
       "      <th>person</th>\n",
       "      <th>offer_id</th>\n",
       "      <th>offer_completed</th>\n",
       "      <th>offer_received</th>\n",
       "      <th>offer_viewed</th>\n",
       "      <th>difficulty</th>\n",
       "      <th>duration</th>\n",
       "      <th>offer_type</th>\n",
       "      <th>reward</th>\n",
       "      <th>mobile</th>\n",
       "      <th>social</th>\n",
       "      <th>email</th>\n",
       "      <th>web</th>\n",
       "    </tr>\n",
       "  </thead>\n",
       "  <tbody>\n",
       "    <tr>\n",
       "      <th>0</th>\n",
       "      <td>0009655768c64bdeb2e877511632db8f</td>\n",
       "      <td>2906b810c7d4411798c6938adc9daaa5</td>\n",
       "      <td>1.0</td>\n",
       "      <td>1.0</td>\n",
       "      <td>0.0</td>\n",
       "      <td>10</td>\n",
       "      <td>7</td>\n",
       "      <td>discount</td>\n",
       "      <td>2</td>\n",
       "      <td>1</td>\n",
       "      <td>0</td>\n",
       "      <td>1</td>\n",
       "      <td>1</td>\n",
       "    </tr>\n",
       "    <tr>\n",
       "      <th>1</th>\n",
       "      <td>0009655768c64bdeb2e877511632db8f</td>\n",
       "      <td>3f207df678b143eea3cee63160fa8bed</td>\n",
       "      <td>0.0</td>\n",
       "      <td>1.0</td>\n",
       "      <td>1.0</td>\n",
       "      <td>0</td>\n",
       "      <td>4</td>\n",
       "      <td>informational</td>\n",
       "      <td>0</td>\n",
       "      <td>1</td>\n",
       "      <td>0</td>\n",
       "      <td>1</td>\n",
       "      <td>1</td>\n",
       "    </tr>\n",
       "    <tr>\n",
       "      <th>2</th>\n",
       "      <td>0009655768c64bdeb2e877511632db8f</td>\n",
       "      <td>5a8bc65990b245e5a138643cd4eb9837</td>\n",
       "      <td>0.0</td>\n",
       "      <td>1.0</td>\n",
       "      <td>1.0</td>\n",
       "      <td>0</td>\n",
       "      <td>3</td>\n",
       "      <td>informational</td>\n",
       "      <td>0</td>\n",
       "      <td>1</td>\n",
       "      <td>1</td>\n",
       "      <td>1</td>\n",
       "      <td>0</td>\n",
       "    </tr>\n",
       "    <tr>\n",
       "      <th>3</th>\n",
       "      <td>0009655768c64bdeb2e877511632db8f</td>\n",
       "      <td>f19421c1d4aa40978ebb69ca19b0e20d</td>\n",
       "      <td>1.0</td>\n",
       "      <td>1.0</td>\n",
       "      <td>1.0</td>\n",
       "      <td>5</td>\n",
       "      <td>5</td>\n",
       "      <td>bogo</td>\n",
       "      <td>5</td>\n",
       "      <td>1</td>\n",
       "      <td>1</td>\n",
       "      <td>1</td>\n",
       "      <td>1</td>\n",
       "    </tr>\n",
       "    <tr>\n",
       "      <th>4</th>\n",
       "      <td>0009655768c64bdeb2e877511632db8f</td>\n",
       "      <td>fafdcd668e3743c1bb461111dcafc2a4</td>\n",
       "      <td>1.0</td>\n",
       "      <td>1.0</td>\n",
       "      <td>1.0</td>\n",
       "      <td>10</td>\n",
       "      <td>10</td>\n",
       "      <td>discount</td>\n",
       "      <td>2</td>\n",
       "      <td>1</td>\n",
       "      <td>1</td>\n",
       "      <td>1</td>\n",
       "      <td>1</td>\n",
       "    </tr>\n",
       "  </tbody>\n",
       "</table>\n",
       "</div>"
      ],
      "text/plain": [
       "                             person                          offer_id  \\\n",
       "0  0009655768c64bdeb2e877511632db8f  2906b810c7d4411798c6938adc9daaa5   \n",
       "1  0009655768c64bdeb2e877511632db8f  3f207df678b143eea3cee63160fa8bed   \n",
       "2  0009655768c64bdeb2e877511632db8f  5a8bc65990b245e5a138643cd4eb9837   \n",
       "3  0009655768c64bdeb2e877511632db8f  f19421c1d4aa40978ebb69ca19b0e20d   \n",
       "4  0009655768c64bdeb2e877511632db8f  fafdcd668e3743c1bb461111dcafc2a4   \n",
       "\n",
       "   offer_completed  offer_received  offer_viewed  difficulty  duration  \\\n",
       "0              1.0             1.0           0.0          10         7   \n",
       "1              0.0             1.0           1.0           0         4   \n",
       "2              0.0             1.0           1.0           0         3   \n",
       "3              1.0             1.0           1.0           5         5   \n",
       "4              1.0             1.0           1.0          10        10   \n",
       "\n",
       "      offer_type  reward  mobile  social  email  web  \n",
       "0       discount       2       1       0      1    1  \n",
       "1  informational       0       1       0      1    1  \n",
       "2  informational       0       1       1      1    0  \n",
       "3           bogo       5       1       1      1    1  \n",
       "4       discount       2       1       1      1    1  "
      ]
     },
     "execution_count": 44,
     "metadata": {},
     "output_type": "execute_result"
    }
   ],
   "source": [
    "offer_person.head()"
   ]
  },
  {
   "cell_type": "markdown",
   "metadata": {},
   "source": [
    "### 2.2 Analysis The Number Of Different Transaction Event Without Offer\n",
    "At last analysis pregross, we find that there are many transaction happening without offer. So we group the uers to caculate the number of transaction in directly."
   ]
  },
  {
   "cell_type": "code",
   "execution_count": 45,
   "metadata": {},
   "outputs": [],
   "source": [
    "no_offer_person = data.loc[data.offer_id.isnull()].groupby([\"person\"]).size().reset_index()\n",
    "no_offer_person.rename({0:\"count\"}, axis=1, inplace=True)"
   ]
  },
  {
   "cell_type": "code",
   "execution_count": 46,
   "metadata": {},
   "outputs": [
    {
     "data": {
      "text/html": [
       "<div>\n",
       "<style scoped>\n",
       "    .dataframe tbody tr th:only-of-type {\n",
       "        vertical-align: middle;\n",
       "    }\n",
       "\n",
       "    .dataframe tbody tr th {\n",
       "        vertical-align: top;\n",
       "    }\n",
       "\n",
       "    .dataframe thead th {\n",
       "        text-align: right;\n",
       "    }\n",
       "</style>\n",
       "<table border=\"1\" class=\"dataframe\">\n",
       "  <thead>\n",
       "    <tr style=\"text-align: right;\">\n",
       "      <th></th>\n",
       "      <th>person</th>\n",
       "      <th>count</th>\n",
       "    </tr>\n",
       "  </thead>\n",
       "  <tbody>\n",
       "    <tr>\n",
       "      <th>0</th>\n",
       "      <td>0009655768c64bdeb2e877511632db8f</td>\n",
       "      <td>8</td>\n",
       "    </tr>\n",
       "    <tr>\n",
       "      <th>1</th>\n",
       "      <td>00116118485d4dfda04fdbaba9a87b5c</td>\n",
       "      <td>3</td>\n",
       "    </tr>\n",
       "    <tr>\n",
       "      <th>2</th>\n",
       "      <td>0011e0d4e6b944f998e987f904e8c1e5</td>\n",
       "      <td>5</td>\n",
       "    </tr>\n",
       "    <tr>\n",
       "      <th>3</th>\n",
       "      <td>0020c2b971eb4e9188eac86d93036a77</td>\n",
       "      <td>8</td>\n",
       "    </tr>\n",
       "    <tr>\n",
       "      <th>4</th>\n",
       "      <td>0020ccbbb6d84e358d3414a3ff76cffd</td>\n",
       "      <td>12</td>\n",
       "    </tr>\n",
       "  </tbody>\n",
       "</table>\n",
       "</div>"
      ],
      "text/plain": [
       "                             person  count\n",
       "0  0009655768c64bdeb2e877511632db8f      8\n",
       "1  00116118485d4dfda04fdbaba9a87b5c      3\n",
       "2  0011e0d4e6b944f998e987f904e8c1e5      5\n",
       "3  0020c2b971eb4e9188eac86d93036a77      8\n",
       "4  0020ccbbb6d84e358d3414a3ff76cffd     12"
      ]
     },
     "execution_count": 46,
     "metadata": {},
     "output_type": "execute_result"
    }
   ],
   "source": [
    "no_offer_person.head()"
   ]
  },
  {
   "cell_type": "markdown",
   "metadata": {},
   "source": [
    "### 2.3 Parse The Running Time Information\n",
    "During running the simulation time, we can parse the time interval between the current transaction and the last transaction"
   ]
  },
  {
   "cell_type": "code",
   "execution_count": 47,
   "metadata": {},
   "outputs": [],
   "source": [
    "if False:\n",
    "    data[\"time_interval\"], _ = preprocess.parse_time_value(data, \"time_interval\")"
   ]
  },
  {
   "cell_type": "code",
   "execution_count": 48,
   "metadata": {},
   "outputs": [
    {
     "data": {
      "text/html": [
       "<div>\n",
       "<style scoped>\n",
       "    .dataframe tbody tr th:only-of-type {\n",
       "        vertical-align: middle;\n",
       "    }\n",
       "\n",
       "    .dataframe tbody tr th {\n",
       "        vertical-align: top;\n",
       "    }\n",
       "\n",
       "    .dataframe thead th {\n",
       "        text-align: right;\n",
       "    }\n",
       "</style>\n",
       "<table border=\"1\" class=\"dataframe\">\n",
       "  <thead>\n",
       "    <tr style=\"text-align: right;\">\n",
       "      <th></th>\n",
       "      <th>0</th>\n",
       "      <th>1</th>\n",
       "    </tr>\n",
       "  </thead>\n",
       "  <tbody>\n",
       "    <tr>\n",
       "      <th>event</th>\n",
       "      <td>offer_received</td>\n",
       "      <td>offer_received</td>\n",
       "    </tr>\n",
       "    <tr>\n",
       "      <th>person</th>\n",
       "      <td>78afa995795e4d85b5d9ceeca43f5fef</td>\n",
       "      <td>a03223e636434f42ac4c3df47e8bac43</td>\n",
       "    </tr>\n",
       "    <tr>\n",
       "      <th>time</th>\n",
       "      <td>0</td>\n",
       "      <td>0</td>\n",
       "    </tr>\n",
       "    <tr>\n",
       "      <th>amount</th>\n",
       "      <td>NaN</td>\n",
       "      <td>NaN</td>\n",
       "    </tr>\n",
       "    <tr>\n",
       "      <th>reward_transcript</th>\n",
       "      <td>NaN</td>\n",
       "      <td>NaN</td>\n",
       "    </tr>\n",
       "    <tr>\n",
       "      <th>offer_id</th>\n",
       "      <td>9b98b8c7a33c4b65b9aebfe6a799e6d9</td>\n",
       "      <td>0b1e1539f2cc45b7b9fa7c272da2e1d7</td>\n",
       "    </tr>\n",
       "    <tr>\n",
       "      <th>age</th>\n",
       "      <td>75</td>\n",
       "      <td>NaN</td>\n",
       "    </tr>\n",
       "    <tr>\n",
       "      <th>became_member_on</th>\n",
       "      <td>2017-05-09 00:00:00</td>\n",
       "      <td>2017-08-04 00:00:00</td>\n",
       "    </tr>\n",
       "    <tr>\n",
       "      <th>gender</th>\n",
       "      <td>Female</td>\n",
       "      <td>unknown</td>\n",
       "    </tr>\n",
       "    <tr>\n",
       "      <th>income</th>\n",
       "      <td>100000</td>\n",
       "      <td>NaN</td>\n",
       "    </tr>\n",
       "    <tr>\n",
       "      <th>became_member_year</th>\n",
       "      <td>2017</td>\n",
       "      <td>2017</td>\n",
       "    </tr>\n",
       "    <tr>\n",
       "      <th>became_member_month</th>\n",
       "      <td>5</td>\n",
       "      <td>8</td>\n",
       "    </tr>\n",
       "    <tr>\n",
       "      <th>income_fix</th>\n",
       "      <td>high</td>\n",
       "      <td>unknown</td>\n",
       "    </tr>\n",
       "    <tr>\n",
       "      <th>age_fix</th>\n",
       "      <td>old</td>\n",
       "      <td>middle</td>\n",
       "    </tr>\n",
       "    <tr>\n",
       "      <th>difficulty</th>\n",
       "      <td>5</td>\n",
       "      <td>20</td>\n",
       "    </tr>\n",
       "    <tr>\n",
       "      <th>duration</th>\n",
       "      <td>7</td>\n",
       "      <td>10</td>\n",
       "    </tr>\n",
       "    <tr>\n",
       "      <th>offer_type</th>\n",
       "      <td>bogo</td>\n",
       "      <td>discount</td>\n",
       "    </tr>\n",
       "    <tr>\n",
       "      <th>reward_portfolia</th>\n",
       "      <td>5</td>\n",
       "      <td>5</td>\n",
       "    </tr>\n",
       "    <tr>\n",
       "      <th>mobile</th>\n",
       "      <td>1</td>\n",
       "      <td>0</td>\n",
       "    </tr>\n",
       "    <tr>\n",
       "      <th>social</th>\n",
       "      <td>0</td>\n",
       "      <td>0</td>\n",
       "    </tr>\n",
       "    <tr>\n",
       "      <th>email</th>\n",
       "      <td>1</td>\n",
       "      <td>1</td>\n",
       "    </tr>\n",
       "    <tr>\n",
       "      <th>web</th>\n",
       "      <td>1</td>\n",
       "      <td>1</td>\n",
       "    </tr>\n",
       "    <tr>\n",
       "      <th>offer_type_fix</th>\n",
       "      <td>bogo</td>\n",
       "      <td>discount</td>\n",
       "    </tr>\n",
       "    <tr>\n",
       "      <th>event_fix</th>\n",
       "      <td>offer_received</td>\n",
       "      <td>offer_received</td>\n",
       "    </tr>\n",
       "  </tbody>\n",
       "</table>\n",
       "</div>"
      ],
      "text/plain": [
       "                                                    0  \\\n",
       "event                                  offer_received   \n",
       "person               78afa995795e4d85b5d9ceeca43f5fef   \n",
       "time                                                0   \n",
       "amount                                            NaN   \n",
       "reward_transcript                                 NaN   \n",
       "offer_id             9b98b8c7a33c4b65b9aebfe6a799e6d9   \n",
       "age                                                75   \n",
       "became_member_on                  2017-05-09 00:00:00   \n",
       "gender                                         Female   \n",
       "income                                         100000   \n",
       "became_member_year                               2017   \n",
       "became_member_month                                 5   \n",
       "income_fix                                       high   \n",
       "age_fix                                           old   \n",
       "difficulty                                          5   \n",
       "duration                                            7   \n",
       "offer_type                                       bogo   \n",
       "reward_portfolia                                    5   \n",
       "mobile                                              1   \n",
       "social                                              0   \n",
       "email                                               1   \n",
       "web                                                 1   \n",
       "offer_type_fix                                   bogo   \n",
       "event_fix                              offer_received   \n",
       "\n",
       "                                                    1  \n",
       "event                                  offer_received  \n",
       "person               a03223e636434f42ac4c3df47e8bac43  \n",
       "time                                                0  \n",
       "amount                                            NaN  \n",
       "reward_transcript                                 NaN  \n",
       "offer_id             0b1e1539f2cc45b7b9fa7c272da2e1d7  \n",
       "age                                               NaN  \n",
       "became_member_on                  2017-08-04 00:00:00  \n",
       "gender                                        unknown  \n",
       "income                                            NaN  \n",
       "became_member_year                               2017  \n",
       "became_member_month                                 8  \n",
       "income_fix                                    unknown  \n",
       "age_fix                                        middle  \n",
       "difficulty                                         20  \n",
       "duration                                           10  \n",
       "offer_type                                   discount  \n",
       "reward_portfolia                                    5  \n",
       "mobile                                              0  \n",
       "social                                              0  \n",
       "email                                               1  \n",
       "web                                                 1  \n",
       "offer_type_fix                               discount  \n",
       "event_fix                              offer_received  "
      ]
     },
     "execution_count": 48,
     "metadata": {},
     "output_type": "execute_result"
    }
   ],
   "source": [
    "data.head(2).T"
   ]
  },
  {
   "cell_type": "markdown",
   "metadata": {},
   "source": [
    "## Step 3: Exploratory Data Analysis\n",
    "When we finished the former steps, we can go further into the data. Now, we can use the exploratory to analyse data. Firstly, we want to know the user demographic information"
   ]
  },
  {
   "cell_type": "code",
   "execution_count": 49,
   "metadata": {},
   "outputs": [
    {
     "data": {
      "text/html": [
       "<div>\n",
       "<style scoped>\n",
       "    .dataframe tbody tr th:only-of-type {\n",
       "        vertical-align: middle;\n",
       "    }\n",
       "\n",
       "    .dataframe tbody tr th {\n",
       "        vertical-align: top;\n",
       "    }\n",
       "\n",
       "    .dataframe thead th {\n",
       "        text-align: right;\n",
       "    }\n",
       "</style>\n",
       "<table border=\"1\" class=\"dataframe\">\n",
       "  <thead>\n",
       "    <tr style=\"text-align: right;\">\n",
       "      <th></th>\n",
       "      <th>age</th>\n",
       "      <th>became_member_on</th>\n",
       "      <th>gender</th>\n",
       "      <th>id</th>\n",
       "      <th>income</th>\n",
       "      <th>became_member_year</th>\n",
       "      <th>became_member_month</th>\n",
       "      <th>income_fix</th>\n",
       "      <th>age_fix</th>\n",
       "    </tr>\n",
       "  </thead>\n",
       "  <tbody>\n",
       "    <tr>\n",
       "      <th>0</th>\n",
       "      <td>NaN</td>\n",
       "      <td>2017-02-12</td>\n",
       "      <td>unknown</td>\n",
       "      <td>68be06ca386d4c31939f3a4f0e3dd783</td>\n",
       "      <td>NaN</td>\n",
       "      <td>2017</td>\n",
       "      <td>2</td>\n",
       "      <td>unknown</td>\n",
       "      <td>middle</td>\n",
       "    </tr>\n",
       "    <tr>\n",
       "      <th>1</th>\n",
       "      <td>55.0</td>\n",
       "      <td>2017-07-15</td>\n",
       "      <td>Female</td>\n",
       "      <td>0610b486422d4921ae7d2bf64640c50b</td>\n",
       "      <td>112000.0</td>\n",
       "      <td>2017</td>\n",
       "      <td>7</td>\n",
       "      <td>high</td>\n",
       "      <td>middle</td>\n",
       "    </tr>\n",
       "    <tr>\n",
       "      <th>2</th>\n",
       "      <td>NaN</td>\n",
       "      <td>2018-07-12</td>\n",
       "      <td>unknown</td>\n",
       "      <td>38fe809add3b4fcf9315a9694bb96ff5</td>\n",
       "      <td>NaN</td>\n",
       "      <td>2018</td>\n",
       "      <td>7</td>\n",
       "      <td>unknown</td>\n",
       "      <td>middle</td>\n",
       "    </tr>\n",
       "    <tr>\n",
       "      <th>3</th>\n",
       "      <td>75.0</td>\n",
       "      <td>2017-05-09</td>\n",
       "      <td>Female</td>\n",
       "      <td>78afa995795e4d85b5d9ceeca43f5fef</td>\n",
       "      <td>100000.0</td>\n",
       "      <td>2017</td>\n",
       "      <td>5</td>\n",
       "      <td>high</td>\n",
       "      <td>old</td>\n",
       "    </tr>\n",
       "    <tr>\n",
       "      <th>4</th>\n",
       "      <td>NaN</td>\n",
       "      <td>2017-08-04</td>\n",
       "      <td>unknown</td>\n",
       "      <td>a03223e636434f42ac4c3df47e8bac43</td>\n",
       "      <td>NaN</td>\n",
       "      <td>2017</td>\n",
       "      <td>8</td>\n",
       "      <td>unknown</td>\n",
       "      <td>middle</td>\n",
       "    </tr>\n",
       "  </tbody>\n",
       "</table>\n",
       "</div>"
      ],
      "text/plain": [
       "    age became_member_on   gender                                id    income  \\\n",
       "0   NaN       2017-02-12  unknown  68be06ca386d4c31939f3a4f0e3dd783       NaN   \n",
       "1  55.0       2017-07-15   Female  0610b486422d4921ae7d2bf64640c50b  112000.0   \n",
       "2   NaN       2018-07-12  unknown  38fe809add3b4fcf9315a9694bb96ff5       NaN   \n",
       "3  75.0       2017-05-09   Female  78afa995795e4d85b5d9ceeca43f5fef  100000.0   \n",
       "4   NaN       2017-08-04  unknown  a03223e636434f42ac4c3df47e8bac43       NaN   \n",
       "\n",
       "   became_member_year  became_member_month income_fix age_fix  \n",
       "0                2017                    2    unknown  middle  \n",
       "1                2017                    7       high  middle  \n",
       "2                2018                    7    unknown  middle  \n",
       "3                2017                    5       high     old  \n",
       "4                2017                    8    unknown  middle  "
      ]
     },
     "execution_count": 49,
     "metadata": {},
     "output_type": "execute_result"
    }
   ],
   "source": [
    "profile.head()"
   ]
  },
  {
   "cell_type": "code",
   "execution_count": 50,
   "metadata": {},
   "outputs": [],
   "source": [
    "member_amount = preprocess.members_with_time(profile.became_member_on.value_counts(), column=\"count\", method=\"sum\",\n",
    "                                    start=profile.became_member_on.min(), end=profile.became_member_on.max()\n",
    "                                    )"
   ]
  },
  {
   "cell_type": "code",
   "execution_count": 51,
   "metadata": {},
   "outputs": [
    {
     "data": {
      "image/png": "[encoded data removed]",
      "text/plain": [
       "<Figure size 864x648 with 2 Axes>"
      ]
     },
     "metadata": {},
     "output_type": "display_data"
    }
   ],
   "source": [
    "# deal with the income value\n",
    "with warnings.catch_warnings(),sns.axes_style(\"dark\"), sns.plotting_context(\"paper\", font_scale=1.5):\n",
    "    warnings.simplefilter(\"ignore\")\n",
    "    \n",
    "    plt.figure(1, figsize=(12, 9))\n",
    "    ax1 = plt.axes([0, .1, 1, .45])\n",
    "    ax2 = plt.axes([0, .6, 1, .8])\n",
    "\n",
    "    member_amount[\"count\"].plot(kind=\"line\", ax=ax1, color=\"dodgerblue\")\n",
    "    sns.pointplot(x=\"became_member_month\", y=\"count\", hue=\"became_member_year\",\n",
    "                  ax=ax2, palette=sns.color_palette(\"ch:2.,-.6,dark=.3\"),\n",
    "             data=preprocess.group_size(profile, [\"became_member_year\", \"became_member_month\"]))\n",
    "\n",
    "    ax1.set_title(\"Moving Summary Of Member Subscribe Trend In The Peroid\", fontsize=20, loc=\"left\")\n",
    "    ax2.tick_params(axis=\"x\", bottom=False, labelbottom=False, top=True, labeltop=True)\n",
    "    ax2.set_xlabel(\"\")\n",
    "    ax2.set_title(\"Member Subscribe Trend By Year And Month\",\n",
    "                  fontsize=20, loc=\"left\", pad=25)\n",
    "\n",
    "\n",
    "    plt.show()"
   ]
  },
  {
   "cell_type": "markdown",
   "metadata": {},
   "source": [
    "### 3.1 The Member Users Subscribed Trend\n",
    "Before 2017 July, almost 300 users join in the Starbucks membership in every 30 days. Then the new member trend increase at the top that is almost 900 users, between 2017 July and 2018 February. After 2018 February, the trend goes down to almost 600 users."
   ]
  },
  {
   "cell_type": "code",
   "execution_count": 52,
   "metadata": {},
   "outputs": [],
   "source": [
    "demograph_info = preprocess.group_size(data.loc[data.event_fix.isin([\"offer_completed\", \"No_offer_completed\"])],\n",
    "                                       [\"income_fix\", \"age_fix\", \"gender\"], label=\"value\")\n",
    "demograph_info.columns = [\"income\", \"age\", \"gender\", \"value\"]"
   ]
  },
  {
   "cell_type": "code",
   "execution_count": 53,
   "metadata": {
    "scrolled": false
   },
   "outputs": [
    {
     "data": {
      "image/png": "[encoded data removed]",
      "text/plain": [
       "<Figure size 777.6x1080 with 15 Axes>"
      ]
     },
     "metadata": {},
     "output_type": "display_data"
    }
   ],
   "source": [
    "with sns.axes_style(\"dark\"), sns.plotting_context(\"notebook\", font_scale=1):\n",
    "    g = sns.FacetGrid(demograph_info, row=\"income\", col=\"age\", aspect=1.2, sharex=\"row\")\n",
    "    g.map_dataframe(sns.barplot, x=\"gender\", y=\"value\", color=\"#98c6f7\")\n",
    "\n",
    "    plt.show()"
   ]
  },
  {
   "cell_type": "code",
   "execution_count": 54,
   "metadata": {},
   "outputs": [
    {
     "data": {
      "text/plain": [
       "income_fix   gender \n",
       "low          Male       0.155765\n",
       "medium       Male       0.141529\n",
       "unknown      unknown    0.127941\n",
       "high         Female     0.122529\n",
       "medium_high  Male       0.117412\n",
       "             Female     0.092471\n",
       "high         Male       0.084353\n",
       "dtype: float64"
      ]
     },
     "execution_count": 54,
     "metadata": {},
     "output_type": "execute_result"
    }
   ],
   "source": [
    "(profile.groupby([\"income_fix\", \"gender\"]).size() / profile.shape[0]).nlargest(7)"
   ]
  },
  {
   "cell_type": "markdown",
   "metadata": {},
   "source": [
    "### 3.2 The Useres Demographic Information\n",
    "Now we know that the Starbucks users decmographic information features: the middle age male users; additionally, the high level income female is the other pop users. **Attention we just analyse the transaction completed data:**\n",
    "1. The most transaction users are the middle level age, but the information of the gender and the income level is missing. Besides, the two missing demographic attribute occupy 12.79%.\n",
    "2. When we control the age variable, the high income users is not the main users; but the low income users and the medium income users have the most transaction amount. Of course, the middle age uses are very common at the different the income level; whereas it is different that the high level females transaction amount is higher than the high level males. At the old age users side, the different income users are almost same; but the high income has the much more transaction amount.\n",
    "3. When we control the income level variable, the young users are the primary except the high income level and the medium high level. There isn't almost different about the different age at the medium high level users. It is a pop at the high level income users except the young users."
   ]
  },
  {
   "cell_type": "code",
   "execution_count": 55,
   "metadata": {},
   "outputs": [
    {
     "data": {
      "text/plain": [
       "NaN                138953\n",
       "offer_received      76277\n",
       "offer_viewed        57725\n",
       "offer_completed     33182\n",
       "Name: event, dtype: int64"
      ]
     },
     "execution_count": 55,
     "metadata": {},
     "output_type": "execute_result"
    }
   ],
   "source": [
    "data.event.value_counts(dropna=0)"
   ]
  },
  {
   "cell_type": "code",
   "execution_count": 56,
   "metadata": {},
   "outputs": [],
   "source": [
    "demograph_offer = preprocess.group_size(data.loc[data.event == \"offer_completed\"], \n",
    "                                             [\"income_fix\", \"age_fix\", \"gender\", \"offer_type_fix\"], label=\"value\")\n",
    "demograph_offer.columns = [\"income\", \"age\", \"gender\", \"offer_type\", \"value\"]"
   ]
  },
  {
   "cell_type": "code",
   "execution_count": 57,
   "metadata": {},
   "outputs": [
    {
     "data": {
      "image/png": "[encoded data removed]",
      "text/plain": [
       "<Figure size 858.2x1080 with 15 Axes>"
      ]
     },
     "metadata": {},
     "output_type": "display_data"
    }
   ],
   "source": [
    "with sns.axes_style(\"dark\"), sns.plotting_context(\"notebook\", font_scale=1):\n",
    "    g = sns.FacetGrid(demograph_offer, row=\"income\", col=\"age\", aspect=1.2, sharex=\"row\")\n",
    "    g.map_dataframe(sns.barplot, x=\"gender\", y=\"value\", hue=\"offer_type\", palette=[\"#8c8c91\", \"#98c6f7\"])\n",
    "    g.add_legend(title=\"Offer Type\")\n",
    "    plt.show()"
   ]
  },
  {
   "cell_type": "code",
   "execution_count": 58,
   "metadata": {},
   "outputs": [
    {
     "data": {
      "text/html": [
       "<div>\n",
       "<style scoped>\n",
       "    .dataframe tbody tr th:only-of-type {\n",
       "        vertical-align: middle;\n",
       "    }\n",
       "\n",
       "    .dataframe tbody tr th {\n",
       "        vertical-align: top;\n",
       "    }\n",
       "\n",
       "    .dataframe thead th {\n",
       "        text-align: right;\n",
       "    }\n",
       "</style>\n",
       "<table border=\"1\" class=\"dataframe\">\n",
       "  <thead>\n",
       "    <tr style=\"text-align: right;\">\n",
       "      <th></th>\n",
       "      <th>income</th>\n",
       "      <th>age</th>\n",
       "      <th>gender</th>\n",
       "      <th>offer_type</th>\n",
       "      <th>value</th>\n",
       "    </tr>\n",
       "  </thead>\n",
       "  <tbody>\n",
       "    <tr>\n",
       "      <th>69</th>\n",
       "      <td>high</td>\n",
       "      <td>old</td>\n",
       "      <td>Female</td>\n",
       "      <td>discount</td>\n",
       "      <td>1399</td>\n",
       "    </tr>\n",
       "    <tr>\n",
       "      <th>68</th>\n",
       "      <td>high</td>\n",
       "      <td>old</td>\n",
       "      <td>Female</td>\n",
       "      <td>bogo</td>\n",
       "      <td>1347</td>\n",
       "    </tr>\n",
       "    <tr>\n",
       "      <th>62</th>\n",
       "      <td>high</td>\n",
       "      <td>middle</td>\n",
       "      <td>Female</td>\n",
       "      <td>bogo</td>\n",
       "      <td>1269</td>\n",
       "    </tr>\n",
       "    <tr>\n",
       "      <th>63</th>\n",
       "      <td>high</td>\n",
       "      <td>middle</td>\n",
       "      <td>Female</td>\n",
       "      <td>discount</td>\n",
       "      <td>1260</td>\n",
       "    </tr>\n",
       "    <tr>\n",
       "      <th>5</th>\n",
       "      <td>low</td>\n",
       "      <td>young</td>\n",
       "      <td>Male</td>\n",
       "      <td>discount</td>\n",
       "      <td>1181</td>\n",
       "    </tr>\n",
       "    <tr>\n",
       "      <th>23</th>\n",
       "      <td>medium</td>\n",
       "      <td>young</td>\n",
       "      <td>Male</td>\n",
       "      <td>discount</td>\n",
       "      <td>1020</td>\n",
       "    </tr>\n",
       "    <tr>\n",
       "      <th>71</th>\n",
       "      <td>high</td>\n",
       "      <td>old</td>\n",
       "      <td>Male</td>\n",
       "      <td>discount</td>\n",
       "      <td>904</td>\n",
       "    </tr>\n",
       "    <tr>\n",
       "      <th>22</th>\n",
       "      <td>medium</td>\n",
       "      <td>young</td>\n",
       "      <td>Male</td>\n",
       "      <td>bogo</td>\n",
       "      <td>864</td>\n",
       "    </tr>\n",
       "    <tr>\n",
       "      <th>65</th>\n",
       "      <td>high</td>\n",
       "      <td>middle</td>\n",
       "      <td>Male</td>\n",
       "      <td>discount</td>\n",
       "      <td>842</td>\n",
       "    </tr>\n",
       "    <tr>\n",
       "      <th>51</th>\n",
       "      <td>medium_high</td>\n",
       "      <td>old</td>\n",
       "      <td>Female</td>\n",
       "      <td>discount</td>\n",
       "      <td>838</td>\n",
       "    </tr>\n",
       "  </tbody>\n",
       "</table>\n",
       "</div>"
      ],
      "text/plain": [
       "         income     age  gender offer_type  value\n",
       "69         high     old  Female   discount   1399\n",
       "68         high     old  Female       bogo   1347\n",
       "62         high  middle  Female       bogo   1269\n",
       "63         high  middle  Female   discount   1260\n",
       "5           low   young    Male   discount   1181\n",
       "23       medium   young    Male   discount   1020\n",
       "71         high     old    Male   discount    904\n",
       "22       medium   young    Male       bogo    864\n",
       "65         high  middle    Male   discount    842\n",
       "51  medium_high     old  Female   discount    838"
      ]
     },
     "execution_count": 58,
     "metadata": {},
     "output_type": "execute_result"
    }
   ],
   "source": [
    "demograph_offer.nlargest(10, \"value\")"
   ]
  },
  {
   "cell_type": "markdown",
   "metadata": {},
   "source": [
    "### 3.3 The Offer Completed Useres Demographic Information\n",
    "1. Above the image, we can know that the most users make a transaction by using the discount, especially the male uses. But there is not apparently difference like the medium level income young and old female users but the medium level income female users\n",
    "2. At the transaction amount, the high income users have the most number of the transaction in each type of promotion except the high income young users\n",
    "\n",
    "In a word, the most number of the offer completed users are the high leve income users, especially the female users. From the Starbucks side, we want to know how the long-term effect is after the promotion"
   ]
  },
  {
   "cell_type": "code",
   "execution_count": 59,
   "metadata": {},
   "outputs": [
    {
     "data": {
      "text/plain": [
       "array(['bogo', 'informational', 'discount'], dtype=object)"
      ]
     },
     "execution_count": 59,
     "metadata": {},
     "output_type": "execute_result"
    }
   ],
   "source": [
    "portfolio.offer_type.unique()"
   ]
  },
  {
   "cell_type": "markdown",
   "metadata": {},
   "source": [
    "### 3.4 Merge Data With Different Offer Type\n",
    "There are three types promotion strategy. There is different convertion line:  \n",
    "1. The BOGO type and the discount type: \n",
    "    * Offer Received => Offer Viewed => Offer Completed => Promotion Effect\n",
    "    * Offer Received => Offer Completed => Promotion Effect\n",
    "2. The informational type\n",
    "    * Offer Received => Offer Viewed => Promotion Effect\n",
    "\n",
    "So, we want to know what the effect is by the different promotion strategy. Now, we need to split the different offer type data, and merge with the transaction data\n",
    "#### 3.4.1 The BOGO Type And The Discount Type Data"
   ]
  },
  {
   "cell_type": "code",
   "execution_count": 60,
   "metadata": {},
   "outputs": [
    {
     "data": {
      "text/html": [
       "<div>\n",
       "<style scoped>\n",
       "    .dataframe tbody tr th:only-of-type {\n",
       "        vertical-align: middle;\n",
       "    }\n",
       "\n",
       "    .dataframe tbody tr th {\n",
       "        vertical-align: top;\n",
       "    }\n",
       "\n",
       "    .dataframe thead th {\n",
       "        text-align: right;\n",
       "    }\n",
       "</style>\n",
       "<table border=\"1\" class=\"dataframe\">\n",
       "  <thead>\n",
       "    <tr style=\"text-align: right;\">\n",
       "      <th></th>\n",
       "      <th>event</th>\n",
       "      <th>person</th>\n",
       "      <th>time</th>\n",
       "      <th>amount</th>\n",
       "      <th>reward</th>\n",
       "      <th>offer_id</th>\n",
       "    </tr>\n",
       "  </thead>\n",
       "  <tbody>\n",
       "    <tr>\n",
       "      <th>0</th>\n",
       "      <td>offer_received</td>\n",
       "      <td>78afa995795e4d85b5d9ceeca43f5fef</td>\n",
       "      <td>0</td>\n",
       "      <td>NaN</td>\n",
       "      <td>NaN</td>\n",
       "      <td>9b98b8c7a33c4b65b9aebfe6a799e6d9</td>\n",
       "    </tr>\n",
       "    <tr>\n",
       "      <th>1</th>\n",
       "      <td>offer_received</td>\n",
       "      <td>a03223e636434f42ac4c3df47e8bac43</td>\n",
       "      <td>0</td>\n",
       "      <td>NaN</td>\n",
       "      <td>NaN</td>\n",
       "      <td>0b1e1539f2cc45b7b9fa7c272da2e1d7</td>\n",
       "    </tr>\n",
       "  </tbody>\n",
       "</table>\n",
       "</div>"
      ],
      "text/plain": [
       "            event                            person  time  amount  reward  \\\n",
       "0  offer_received  78afa995795e4d85b5d9ceeca43f5fef     0     NaN     NaN   \n",
       "1  offer_received  a03223e636434f42ac4c3df47e8bac43     0     NaN     NaN   \n",
       "\n",
       "                           offer_id  \n",
       "0  9b98b8c7a33c4b65b9aebfe6a799e6d9  \n",
       "1  0b1e1539f2cc45b7b9fa7c272da2e1d7  "
      ]
     },
     "execution_count": 60,
     "metadata": {},
     "output_type": "execute_result"
    }
   ],
   "source": [
    "transcript.head(2)"
   ]
  },
  {
   "cell_type": "code",
   "execution_count": 61,
   "metadata": {},
   "outputs": [
    {
     "data": {
      "text/html": [
       "<div>\n",
       "<style scoped>\n",
       "    .dataframe tbody tr th:only-of-type {\n",
       "        vertical-align: middle;\n",
       "    }\n",
       "\n",
       "    .dataframe tbody tr th {\n",
       "        vertical-align: top;\n",
       "    }\n",
       "\n",
       "    .dataframe thead th {\n",
       "        text-align: right;\n",
       "    }\n",
       "</style>\n",
       "<table border=\"1\" class=\"dataframe\">\n",
       "  <thead>\n",
       "    <tr style=\"text-align: right;\">\n",
       "      <th></th>\n",
       "      <th>difficulty</th>\n",
       "      <th>duration</th>\n",
       "      <th>id</th>\n",
       "      <th>offer_type</th>\n",
       "      <th>reward</th>\n",
       "      <th>mobile</th>\n",
       "      <th>social</th>\n",
       "      <th>email</th>\n",
       "      <th>web</th>\n",
       "    </tr>\n",
       "  </thead>\n",
       "  <tbody>\n",
       "    <tr>\n",
       "      <th>0</th>\n",
       "      <td>10</td>\n",
       "      <td>7</td>\n",
       "      <td>ae264e3637204a6fb9bb56bc8210ddfd</td>\n",
       "      <td>bogo</td>\n",
       "      <td>10</td>\n",
       "      <td>1</td>\n",
       "      <td>1</td>\n",
       "      <td>1</td>\n",
       "      <td>0</td>\n",
       "    </tr>\n",
       "    <tr>\n",
       "      <th>1</th>\n",
       "      <td>10</td>\n",
       "      <td>5</td>\n",
       "      <td>4d5c57ea9a6940dd891ad53e9dbe8da0</td>\n",
       "      <td>bogo</td>\n",
       "      <td>10</td>\n",
       "      <td>1</td>\n",
       "      <td>1</td>\n",
       "      <td>1</td>\n",
       "      <td>1</td>\n",
       "    </tr>\n",
       "  </tbody>\n",
       "</table>\n",
       "</div>"
      ],
      "text/plain": [
       "   difficulty  duration                                id offer_type  reward  \\\n",
       "0          10         7  ae264e3637204a6fb9bb56bc8210ddfd       bogo      10   \n",
       "1          10         5  4d5c57ea9a6940dd891ad53e9dbe8da0       bogo      10   \n",
       "\n",
       "   mobile  social  email  web  \n",
       "0       1       1      1    0  \n",
       "1       1       1      1    1  "
      ]
     },
     "execution_count": 61,
     "metadata": {},
     "output_type": "execute_result"
    }
   ],
   "source": [
    "portfolio.head(2)"
   ]
  },
  {
   "cell_type": "code",
   "execution_count": 62,
   "metadata": {},
   "outputs": [
    {
     "data": {
      "text/plain": [
       "offer_received     61042\n",
       "offer_viewed       46894\n",
       "offer_completed    33182\n",
       "Name: event, dtype: int64"
      ]
     },
     "execution_count": 62,
     "metadata": {},
     "output_type": "execute_result"
    }
   ],
   "source": [
    "data.loc[data.offer_type != \"informational\", \"event\"].value_counts()"
   ]
  },
  {
   "cell_type": "code",
   "execution_count": 63,
   "metadata": {},
   "outputs": [],
   "source": [
    "# get the offer_compeletion\n",
    "all_offer = pd.merge(\n",
    "    transcript.loc[transcript.event == \"offer_received\", [\"person\", \"offer_id\", \"time\"]],\n",
    "    transcript.loc[transcript.event == \"offer_completed\", [\"person\", \"offer_id\", \"time\", \"reward\"]],\n",
    "    how=\"left\", on=[\"person\", \"offer_id\"], suffixes=(\"_received\", \"_completed\")\n",
    ")\n",
    "\n",
    "\n",
    "all_offer = all_offer.merge(\n",
    "    portfolio, how=\"left\", left_on=\"offer_id\", right_on=\"id\", suffixes=(\"_complete\", \"_offer\")\n",
    ")\n",
    "\n",
    "# clean the data value about the informational data, just keep the values BOGO | discount data\n",
    "offer_completion = all_offer.loc[(all_offer.offer_type != \"informational\")]"
   ]
  },
  {
   "cell_type": "code",
   "execution_count": 64,
   "metadata": {},
   "outputs": [],
   "source": [
    "# filter the value with the validate offer duration\n",
    "offer_completion = offer_completion.loc[offer_completion.apply(\n",
    "            lambda x: 0 <= x[\"time_completed\"] - x[\"time_received\"] <= x[\"duration\"], axis=1)]"
   ]
  },
  {
   "cell_type": "code",
   "execution_count": 65,
   "metadata": {},
   "outputs": [
    {
     "data": {
      "text/html": [
       "<div>\n",
       "<style scoped>\n",
       "    .dataframe tbody tr th:only-of-type {\n",
       "        vertical-align: middle;\n",
       "    }\n",
       "\n",
       "    .dataframe tbody tr th {\n",
       "        vertical-align: top;\n",
       "    }\n",
       "\n",
       "    .dataframe thead th {\n",
       "        text-align: right;\n",
       "    }\n",
       "</style>\n",
       "<table border=\"1\" class=\"dataframe\">\n",
       "  <thead>\n",
       "    <tr style=\"text-align: right;\">\n",
       "      <th></th>\n",
       "      <th>person</th>\n",
       "      <th>offer_id</th>\n",
       "      <th>time_received</th>\n",
       "      <th>time_completed</th>\n",
       "      <th>reward_complete</th>\n",
       "      <th>difficulty</th>\n",
       "      <th>duration</th>\n",
       "      <th>id</th>\n",
       "      <th>offer_type</th>\n",
       "      <th>reward_offer</th>\n",
       "      <th>mobile</th>\n",
       "      <th>social</th>\n",
       "      <th>email</th>\n",
       "      <th>web</th>\n",
       "    </tr>\n",
       "  </thead>\n",
       "  <tbody>\n",
       "    <tr>\n",
       "      <th>39</th>\n",
       "      <td>676506bad68e4161b9bbaffeb039626b</td>\n",
       "      <td>ae264e3637204a6fb9bb56bc8210ddfd</td>\n",
       "      <td>0</td>\n",
       "      <td>0.0</td>\n",
       "      <td>10.0</td>\n",
       "      <td>10</td>\n",
       "      <td>7</td>\n",
       "      <td>ae264e3637204a6fb9bb56bc8210ddfd</td>\n",
       "      <td>bogo</td>\n",
       "      <td>10</td>\n",
       "      <td>1</td>\n",
       "      <td>1</td>\n",
       "      <td>1</td>\n",
       "      <td>0</td>\n",
       "    </tr>\n",
       "    <tr>\n",
       "      <th>40</th>\n",
       "      <td>9fa9ae8f57894cc9a3b8a9bbe0fc1b2f</td>\n",
       "      <td>2906b810c7d4411798c6938adc9daaa5</td>\n",
       "      <td>0</td>\n",
       "      <td>0.0</td>\n",
       "      <td>2.0</td>\n",
       "      <td>10</td>\n",
       "      <td>7</td>\n",
       "      <td>2906b810c7d4411798c6938adc9daaa5</td>\n",
       "      <td>discount</td>\n",
       "      <td>2</td>\n",
       "      <td>1</td>\n",
       "      <td>0</td>\n",
       "      <td>1</td>\n",
       "      <td>1</td>\n",
       "    </tr>\n",
       "  </tbody>\n",
       "</table>\n",
       "</div>"
      ],
      "text/plain": [
       "                              person                          offer_id  \\\n",
       "39  676506bad68e4161b9bbaffeb039626b  ae264e3637204a6fb9bb56bc8210ddfd   \n",
       "40  9fa9ae8f57894cc9a3b8a9bbe0fc1b2f  2906b810c7d4411798c6938adc9daaa5   \n",
       "\n",
       "    time_received  time_completed  reward_complete  difficulty  duration  \\\n",
       "39              0             0.0             10.0          10         7   \n",
       "40              0             0.0              2.0          10         7   \n",
       "\n",
       "                                  id offer_type  reward_offer  mobile  social  \\\n",
       "39  ae264e3637204a6fb9bb56bc8210ddfd       bogo            10       1       1   \n",
       "40  2906b810c7d4411798c6938adc9daaa5   discount             2       1       0   \n",
       "\n",
       "    email  web  \n",
       "39      1    0  \n",
       "40      1    1  "
      ]
     },
     "execution_count": 65,
     "metadata": {},
     "output_type": "execute_result"
    }
   ],
   "source": [
    "offer_completion.head(2)"
   ]
  },
  {
   "cell_type": "code",
   "execution_count": 66,
   "metadata": {},
   "outputs": [],
   "source": [
    "# merge the transaction data after the non informational promotion\n",
    "validate_offer_data = pd.merge(\n",
    "        transcript.loc[transcript.offer_id.isnull(), [\"person\", \"time\", \"amount\"]],\n",
    "        offer_completion.loc[:, [\"person\", \"offer_id\", \"time_received\", \n",
    "                                 \"time_completed\", \"duration\", \"reward_complete\"]],\n",
    "        on=\"person\", how=\"left\", suffixes=(\"_purchase\", \"_offer\")\n",
    "    )"
   ]
  },
  {
   "cell_type": "code",
   "execution_count": 67,
   "metadata": {},
   "outputs": [],
   "source": [
    "# filter the purchase data after the non informational promotion\n",
    "after_offer = validate_offer_data.loc[validate_offer_data.apply(lambda x: (x[\"time\"] > x[\"time_completed\"] and \\\n",
    "                                                 (x[\"time_received\"] + x[\"duration\"] <= x[\"time\"])), axis=1)]"
   ]
  },
  {
   "cell_type": "code",
   "execution_count": 68,
   "metadata": {},
   "outputs": [
    {
     "data": {
      "text/html": [
       "<div>\n",
       "<style scoped>\n",
       "    .dataframe tbody tr th:only-of-type {\n",
       "        vertical-align: middle;\n",
       "    }\n",
       "\n",
       "    .dataframe tbody tr th {\n",
       "        vertical-align: top;\n",
       "    }\n",
       "\n",
       "    .dataframe thead th {\n",
       "        text-align: right;\n",
       "    }\n",
       "</style>\n",
       "<table border=\"1\" class=\"dataframe\">\n",
       "  <thead>\n",
       "    <tr style=\"text-align: right;\">\n",
       "      <th></th>\n",
       "      <th>person</th>\n",
       "      <th>time</th>\n",
       "      <th>amount</th>\n",
       "      <th>offer_id</th>\n",
       "      <th>time_received</th>\n",
       "      <th>time_completed</th>\n",
       "      <th>duration</th>\n",
       "      <th>reward_complete</th>\n",
       "    </tr>\n",
       "  </thead>\n",
       "  <tbody>\n",
       "    <tr>\n",
       "      <th>713</th>\n",
       "      <td>8f7dd3b2afe14c078eb4f6e6fe4ba97d</td>\n",
       "      <td>6</td>\n",
       "      <td>16.03</td>\n",
       "      <td>4d5c57ea9a6940dd891ad53e9dbe8da0</td>\n",
       "      <td>0.0</td>\n",
       "      <td>0.0</td>\n",
       "      <td>5.0</td>\n",
       "      <td>10.0</td>\n",
       "    </tr>\n",
       "    <tr>\n",
       "      <th>761</th>\n",
       "      <td>5152fa6375184287b06e2fd0d5abed34</td>\n",
       "      <td>6</td>\n",
       "      <td>15.53</td>\n",
       "      <td>f19421c1d4aa40978ebb69ca19b0e20d</td>\n",
       "      <td>0.0</td>\n",
       "      <td>0.0</td>\n",
       "      <td>5.0</td>\n",
       "      <td>5.0</td>\n",
       "    </tr>\n",
       "  </tbody>\n",
       "</table>\n",
       "</div>"
      ],
      "text/plain": [
       "                               person  time  amount  \\\n",
       "713  8f7dd3b2afe14c078eb4f6e6fe4ba97d     6   16.03   \n",
       "761  5152fa6375184287b06e2fd0d5abed34     6   15.53   \n",
       "\n",
       "                             offer_id  time_received  time_completed  \\\n",
       "713  4d5c57ea9a6940dd891ad53e9dbe8da0            0.0             0.0   \n",
       "761  f19421c1d4aa40978ebb69ca19b0e20d            0.0             0.0   \n",
       "\n",
       "     duration  reward_complete  \n",
       "713       5.0             10.0  \n",
       "761       5.0              5.0  "
      ]
     },
     "execution_count": 68,
     "metadata": {},
     "output_type": "execute_result"
    }
   ],
   "source": [
    "after_offer.head(2)"
   ]
  },
  {
   "cell_type": "code",
   "execution_count": 69,
   "metadata": {},
   "outputs": [
    {
     "data": {
      "text/plain": [
       "(2903, 8)"
      ]
     },
     "execution_count": 69,
     "metadata": {},
     "output_type": "execute_result"
    }
   ],
   "source": [
    "after_offer.person.nunique(), after_offer.offer_id.nunique()"
   ]
  },
  {
   "cell_type": "code",
   "execution_count": 70,
   "metadata": {},
   "outputs": [
    {
     "data": {
      "text/html": [
       "<div>\n",
       "<style scoped>\n",
       "    .dataframe tbody tr th:only-of-type {\n",
       "        vertical-align: middle;\n",
       "    }\n",
       "\n",
       "    .dataframe tbody tr th {\n",
       "        vertical-align: top;\n",
       "    }\n",
       "\n",
       "    .dataframe thead th {\n",
       "        text-align: right;\n",
       "    }\n",
       "</style>\n",
       "<table border=\"1\" class=\"dataframe\">\n",
       "  <thead>\n",
       "    <tr style=\"text-align: right;\">\n",
       "      <th></th>\n",
       "      <th>difficulty</th>\n",
       "      <th>duration</th>\n",
       "      <th>id</th>\n",
       "      <th>offer_type</th>\n",
       "      <th>reward</th>\n",
       "      <th>mobile</th>\n",
       "      <th>social</th>\n",
       "      <th>email</th>\n",
       "      <th>web</th>\n",
       "    </tr>\n",
       "  </thead>\n",
       "  <tbody>\n",
       "    <tr>\n",
       "      <th>2</th>\n",
       "      <td>0</td>\n",
       "      <td>4</td>\n",
       "      <td>3f207df678b143eea3cee63160fa8bed</td>\n",
       "      <td>informational</td>\n",
       "      <td>0</td>\n",
       "      <td>1</td>\n",
       "      <td>0</td>\n",
       "      <td>1</td>\n",
       "      <td>1</td>\n",
       "    </tr>\n",
       "    <tr>\n",
       "      <th>7</th>\n",
       "      <td>0</td>\n",
       "      <td>3</td>\n",
       "      <td>5a8bc65990b245e5a138643cd4eb9837</td>\n",
       "      <td>informational</td>\n",
       "      <td>0</td>\n",
       "      <td>1</td>\n",
       "      <td>1</td>\n",
       "      <td>1</td>\n",
       "      <td>0</td>\n",
       "    </tr>\n",
       "  </tbody>\n",
       "</table>\n",
       "</div>"
      ],
      "text/plain": [
       "   difficulty  duration                                id     offer_type  \\\n",
       "2           0         4  3f207df678b143eea3cee63160fa8bed  informational   \n",
       "7           0         3  5a8bc65990b245e5a138643cd4eb9837  informational   \n",
       "\n",
       "   reward  mobile  social  email  web  \n",
       "2       0       1       0      1    1  \n",
       "7       0       1       1      1    0  "
      ]
     },
     "execution_count": 70,
     "metadata": {},
     "output_type": "execute_result"
    }
   ],
   "source": [
    "portfolio[~portfolio.id.isin(after_offer.offer_id.unique())]"
   ]
  },
  {
   "cell_type": "markdown",
   "metadata": {},
   "source": [
    "#### 3.4.2 The Informational Data"
   ]
  },
  {
   "cell_type": "code",
   "execution_count": 71,
   "metadata": {},
   "outputs": [],
   "source": [
    "# get the informational promotion vaue\n",
    "all_info = preprocess.merge_data(\n",
    "        transcript, transcript, condition=\"event\", cond_value1=\"offer_viewed\",\n",
    "        cond_value2=\"offer_received\", columns1=[\"person\", \"offer_id\", \"time\"], \n",
    "        columns2=[\"person\", \"offer_id\", \"time\", \"reward\"], how=\"left\",\n",
    "        on=[\"person\", \"offer_id\"], suffixes=(\"_viewed\", \"_received\"),\n",
    "         portfolio=portfolio, portfolio_suffix=(\"_info\", \"_offer\")\n",
    "    )\n",
    "\n",
    "# Store the data value with the informational data\n",
    "info_completion = all_info.loc[(all_info.offer_type == \"informational\")]"
   ]
  },
  {
   "cell_type": "code",
   "execution_count": 72,
   "metadata": {},
   "outputs": [],
   "source": [
    "# filter the validate value with the informational duration\n",
    "info_completion = info_completion.loc[info_completion.apply(\n",
    "            lambda x: 0 <= x[\"time_received\"] - x[\"time_viewed\"] <= x[\"duration\"], axis=1)]"
   ]
  },
  {
   "cell_type": "code",
   "execution_count": 73,
   "metadata": {},
   "outputs": [
    {
     "data": {
      "text/html": [
       "<div>\n",
       "<style scoped>\n",
       "    .dataframe tbody tr th:only-of-type {\n",
       "        vertical-align: middle;\n",
       "    }\n",
       "\n",
       "    .dataframe tbody tr th {\n",
       "        vertical-align: top;\n",
       "    }\n",
       "\n",
       "    .dataframe thead th {\n",
       "        text-align: right;\n",
       "    }\n",
       "</style>\n",
       "<table border=\"1\" class=\"dataframe\">\n",
       "  <thead>\n",
       "    <tr style=\"text-align: right;\">\n",
       "      <th></th>\n",
       "      <th>person</th>\n",
       "      <th>offer_id</th>\n",
       "      <th>time_viewed</th>\n",
       "      <th>time_received</th>\n",
       "      <th>difficulty</th>\n",
       "      <th>duration</th>\n",
       "      <th>id</th>\n",
       "      <th>offer_type</th>\n",
       "      <th>reward_offer</th>\n",
       "      <th>mobile</th>\n",
       "      <th>social</th>\n",
       "      <th>email</th>\n",
       "      <th>web</th>\n",
       "    </tr>\n",
       "  </thead>\n",
       "  <tbody>\n",
       "    <tr>\n",
       "      <th>2</th>\n",
       "      <td>d1ede868e29245ea91818a903fec04c6</td>\n",
       "      <td>5a8bc65990b245e5a138643cd4eb9837</td>\n",
       "      <td>0</td>\n",
       "      <td>0</td>\n",
       "      <td>0</td>\n",
       "      <td>3</td>\n",
       "      <td>5a8bc65990b245e5a138643cd4eb9837</td>\n",
       "      <td>informational</td>\n",
       "      <td>0</td>\n",
       "      <td>1</td>\n",
       "      <td>1</td>\n",
       "      <td>1</td>\n",
       "      <td>0</td>\n",
       "    </tr>\n",
       "    <tr>\n",
       "      <th>5</th>\n",
       "      <td>be8a5d1981a2458d90b255ddc7e0d174</td>\n",
       "      <td>5a8bc65990b245e5a138643cd4eb9837</td>\n",
       "      <td>0</td>\n",
       "      <td>0</td>\n",
       "      <td>0</td>\n",
       "      <td>3</td>\n",
       "      <td>5a8bc65990b245e5a138643cd4eb9837</td>\n",
       "      <td>informational</td>\n",
       "      <td>0</td>\n",
       "      <td>1</td>\n",
       "      <td>1</td>\n",
       "      <td>1</td>\n",
       "      <td>0</td>\n",
       "    </tr>\n",
       "  </tbody>\n",
       "</table>\n",
       "</div>"
      ],
      "text/plain": [
       "                             person                          offer_id  \\\n",
       "2  d1ede868e29245ea91818a903fec04c6  5a8bc65990b245e5a138643cd4eb9837   \n",
       "5  be8a5d1981a2458d90b255ddc7e0d174  5a8bc65990b245e5a138643cd4eb9837   \n",
       "\n",
       "   time_viewed  time_received  difficulty  duration  \\\n",
       "2            0              0           0         3   \n",
       "5            0              0           0         3   \n",
       "\n",
       "                                 id     offer_type  reward_offer  mobile  \\\n",
       "2  5a8bc65990b245e5a138643cd4eb9837  informational             0       1   \n",
       "5  5a8bc65990b245e5a138643cd4eb9837  informational             0       1   \n",
       "\n",
       "   social  email  web  \n",
       "2       1      1    0  \n",
       "5       1      1    0  "
      ]
     },
     "execution_count": 73,
     "metadata": {},
     "output_type": "execute_result"
    }
   ],
   "source": [
    "info_completion.head(2)"
   ]
  },
  {
   "cell_type": "code",
   "execution_count": 74,
   "metadata": {},
   "outputs": [],
   "source": [
    "# merge the transaction data after the informational promotion\n",
    "validate_info_data = preprocess.merge_data(\n",
    "    transcript.loc[transcript.offer_id.isnull(), [\"person\", \"time\", \"amount\"]],\n",
    "    info_completion.loc[:, [\"person\", \"offer_id\", \"time_received\", \"time_viewed\",\n",
    "                            \"duration\"]], portfolio_suffix=(\"_purchase\", \"_info\"),\n",
    "    on=\"person\"\n",
    "    )"
   ]
  },
  {
   "cell_type": "code",
   "execution_count": 75,
   "metadata": {},
   "outputs": [],
   "source": [
    "# filter the purchase data after the non informational promotion\n",
    "after_info = validate_info_data.loc[validate_info_data.apply(preprocess.info_filter, axis=1)]\n",
    "\n",
    "# unify the finish time :change the time_viewed to the time_completed\n",
    "after_info = after_info.rename({\"time_viewed\" : \"time_completed\"}, axis=1)"
   ]
  },
  {
   "cell_type": "code",
   "execution_count": 76,
   "metadata": {
    "scrolled": true
   },
   "outputs": [
    {
     "data": {
      "text/html": [
       "<div>\n",
       "<style scoped>\n",
       "    .dataframe tbody tr th:only-of-type {\n",
       "        vertical-align: middle;\n",
       "    }\n",
       "\n",
       "    .dataframe tbody tr th {\n",
       "        vertical-align: top;\n",
       "    }\n",
       "\n",
       "    .dataframe thead th {\n",
       "        text-align: right;\n",
       "    }\n",
       "</style>\n",
       "<table border=\"1\" class=\"dataframe\">\n",
       "  <thead>\n",
       "    <tr style=\"text-align: right;\">\n",
       "      <th></th>\n",
       "      <th>person</th>\n",
       "      <th>time</th>\n",
       "      <th>amount</th>\n",
       "      <th>offer_id</th>\n",
       "      <th>time_received</th>\n",
       "      <th>time_completed</th>\n",
       "      <th>duration</th>\n",
       "    </tr>\n",
       "  </thead>\n",
       "  <tbody>\n",
       "    <tr>\n",
       "      <th>639</th>\n",
       "      <td>be8a5d1981a2458d90b255ddc7e0d174</td>\n",
       "      <td>6</td>\n",
       "      <td>2.63</td>\n",
       "      <td>5a8bc65990b245e5a138643cd4eb9837</td>\n",
       "      <td>0.0</td>\n",
       "      <td>0.0</td>\n",
       "      <td>3.0</td>\n",
       "    </tr>\n",
       "    <tr>\n",
       "      <th>642</th>\n",
       "      <td>e737ff591120415581ddbe817b8c82ca</td>\n",
       "      <td>6</td>\n",
       "      <td>23.27</td>\n",
       "      <td>5a8bc65990b245e5a138643cd4eb9837</td>\n",
       "      <td>0.0</td>\n",
       "      <td>0.0</td>\n",
       "      <td>3.0</td>\n",
       "    </tr>\n",
       "  </tbody>\n",
       "</table>\n",
       "</div>"
      ],
      "text/plain": [
       "                               person  time  amount  \\\n",
       "639  be8a5d1981a2458d90b255ddc7e0d174     6    2.63   \n",
       "642  e737ff591120415581ddbe817b8c82ca     6   23.27   \n",
       "\n",
       "                             offer_id  time_received  time_completed  duration  \n",
       "639  5a8bc65990b245e5a138643cd4eb9837            0.0             0.0       3.0  \n",
       "642  5a8bc65990b245e5a138643cd4eb9837            0.0             0.0       3.0  "
      ]
     },
     "execution_count": 76,
     "metadata": {},
     "output_type": "execute_result"
    }
   ],
   "source": [
    "after_info.head(2)"
   ]
  },
  {
   "cell_type": "code",
   "execution_count": 77,
   "metadata": {},
   "outputs": [
    {
     "data": {
      "text/html": [
       "<div>\n",
       "<style scoped>\n",
       "    .dataframe tbody tr th:only-of-type {\n",
       "        vertical-align: middle;\n",
       "    }\n",
       "\n",
       "    .dataframe tbody tr th {\n",
       "        vertical-align: top;\n",
       "    }\n",
       "\n",
       "    .dataframe thead th {\n",
       "        text-align: right;\n",
       "    }\n",
       "</style>\n",
       "<table border=\"1\" class=\"dataframe\">\n",
       "  <thead>\n",
       "    <tr style=\"text-align: right;\">\n",
       "      <th></th>\n",
       "      <th>person</th>\n",
       "      <th>time</th>\n",
       "      <th>amount</th>\n",
       "      <th>offer_id</th>\n",
       "      <th>time_received</th>\n",
       "      <th>time_completed</th>\n",
       "      <th>duration</th>\n",
       "      <th>reward_complete</th>\n",
       "    </tr>\n",
       "  </thead>\n",
       "  <tbody>\n",
       "    <tr>\n",
       "      <th>713</th>\n",
       "      <td>8f7dd3b2afe14c078eb4f6e6fe4ba97d</td>\n",
       "      <td>6</td>\n",
       "      <td>16.03</td>\n",
       "      <td>4d5c57ea9a6940dd891ad53e9dbe8da0</td>\n",
       "      <td>0.0</td>\n",
       "      <td>0.0</td>\n",
       "      <td>5.0</td>\n",
       "      <td>10.0</td>\n",
       "    </tr>\n",
       "    <tr>\n",
       "      <th>761</th>\n",
       "      <td>5152fa6375184287b06e2fd0d5abed34</td>\n",
       "      <td>6</td>\n",
       "      <td>15.53</td>\n",
       "      <td>f19421c1d4aa40978ebb69ca19b0e20d</td>\n",
       "      <td>0.0</td>\n",
       "      <td>0.0</td>\n",
       "      <td>5.0</td>\n",
       "      <td>5.0</td>\n",
       "    </tr>\n",
       "  </tbody>\n",
       "</table>\n",
       "</div>"
      ],
      "text/plain": [
       "                               person  time  amount  \\\n",
       "713  8f7dd3b2afe14c078eb4f6e6fe4ba97d     6   16.03   \n",
       "761  5152fa6375184287b06e2fd0d5abed34     6   15.53   \n",
       "\n",
       "                             offer_id  time_received  time_completed  \\\n",
       "713  4d5c57ea9a6940dd891ad53e9dbe8da0            0.0             0.0   \n",
       "761  f19421c1d4aa40978ebb69ca19b0e20d            0.0             0.0   \n",
       "\n",
       "     duration  reward_complete  \n",
       "713       5.0             10.0  \n",
       "761       5.0              5.0  "
      ]
     },
     "execution_count": 77,
     "metadata": {},
     "output_type": "execute_result"
    }
   ],
   "source": [
    "after_offer.head(2)"
   ]
  },
  {
   "cell_type": "markdown",
   "metadata": {},
   "source": [
    "##### 3.4.3 Merge The Different Type Data\n",
    "Now we get the different promotion strategy data, then we must merge the two datasets. After finishing the process, we can go to analyse the effect of the different promotion strategy data"
   ]
  },
  {
   "cell_type": "code",
   "execution_count": 78,
   "metadata": {},
   "outputs": [],
   "source": [
    "after_promotion = \\\n",
    "    pd.concat([after_offer[[\"person\", \"offer_id\", \"time\", \"time_completed\", \"amount\", \"reward_complete\"]], \n",
    "           after_info[[\"person\", \"offer_id\", \"time\", \"time_completed\", \"amount\"]]], \n",
    "              sort=False).reset_index(drop=1)"
   ]
  },
  {
   "cell_type": "code",
   "execution_count": 79,
   "metadata": {},
   "outputs": [
    {
     "data": {
      "text/plain": [
       "(28217, 6)"
      ]
     },
     "execution_count": 79,
     "metadata": {},
     "output_type": "execute_result"
    }
   ],
   "source": [
    "after_promotion.shape"
   ]
  },
  {
   "cell_type": "code",
   "execution_count": 80,
   "metadata": {},
   "outputs": [
    {
     "data": {
      "text/html": [
       "<div>\n",
       "<style scoped>\n",
       "    .dataframe tbody tr th:only-of-type {\n",
       "        vertical-align: middle;\n",
       "    }\n",
       "\n",
       "    .dataframe tbody tr th {\n",
       "        vertical-align: top;\n",
       "    }\n",
       "\n",
       "    .dataframe thead th {\n",
       "        text-align: right;\n",
       "    }\n",
       "</style>\n",
       "<table border=\"1\" class=\"dataframe\">\n",
       "  <thead>\n",
       "    <tr style=\"text-align: right;\">\n",
       "      <th></th>\n",
       "      <th>person</th>\n",
       "      <th>offer_id</th>\n",
       "      <th>time</th>\n",
       "      <th>time_completed</th>\n",
       "      <th>amount</th>\n",
       "      <th>reward_complete</th>\n",
       "    </tr>\n",
       "  </thead>\n",
       "  <tbody>\n",
       "    <tr>\n",
       "      <th>0</th>\n",
       "      <td>8f7dd3b2afe14c078eb4f6e6fe4ba97d</td>\n",
       "      <td>4d5c57ea9a6940dd891ad53e9dbe8da0</td>\n",
       "      <td>6</td>\n",
       "      <td>0.0</td>\n",
       "      <td>16.03</td>\n",
       "      <td>10.0</td>\n",
       "    </tr>\n",
       "    <tr>\n",
       "      <th>1</th>\n",
       "      <td>5152fa6375184287b06e2fd0d5abed34</td>\n",
       "      <td>f19421c1d4aa40978ebb69ca19b0e20d</td>\n",
       "      <td>6</td>\n",
       "      <td>0.0</td>\n",
       "      <td>15.53</td>\n",
       "      <td>5.0</td>\n",
       "    </tr>\n",
       "  </tbody>\n",
       "</table>\n",
       "</div>"
      ],
      "text/plain": [
       "                             person                          offer_id  time  \\\n",
       "0  8f7dd3b2afe14c078eb4f6e6fe4ba97d  4d5c57ea9a6940dd891ad53e9dbe8da0     6   \n",
       "1  5152fa6375184287b06e2fd0d5abed34  f19421c1d4aa40978ebb69ca19b0e20d     6   \n",
       "\n",
       "   time_completed  amount  reward_complete  \n",
       "0             0.0   16.03             10.0  \n",
       "1             0.0   15.53              5.0  "
      ]
     },
     "execution_count": 80,
     "metadata": {},
     "output_type": "execute_result"
    }
   ],
   "source": [
    "after_promotion.head(2)"
   ]
  },
  {
   "cell_type": "code",
   "execution_count": 81,
   "metadata": {},
   "outputs": [
    {
     "data": {
      "text/html": [
       "<div>\n",
       "<style scoped>\n",
       "    .dataframe tbody tr th:only-of-type {\n",
       "        vertical-align: middle;\n",
       "    }\n",
       "\n",
       "    .dataframe tbody tr th {\n",
       "        vertical-align: top;\n",
       "    }\n",
       "\n",
       "    .dataframe thead th {\n",
       "        text-align: right;\n",
       "    }\n",
       "</style>\n",
       "<table border=\"1\" class=\"dataframe\">\n",
       "  <thead>\n",
       "    <tr style=\"text-align: right;\">\n",
       "      <th></th>\n",
       "      <th>age</th>\n",
       "      <th>became_member_on</th>\n",
       "      <th>gender</th>\n",
       "      <th>id</th>\n",
       "      <th>income</th>\n",
       "      <th>became_member_year</th>\n",
       "      <th>became_member_month</th>\n",
       "      <th>income_fix</th>\n",
       "      <th>age_fix</th>\n",
       "    </tr>\n",
       "  </thead>\n",
       "  <tbody>\n",
       "    <tr>\n",
       "      <th>0</th>\n",
       "      <td>NaN</td>\n",
       "      <td>2017-02-12</td>\n",
       "      <td>unknown</td>\n",
       "      <td>68be06ca386d4c31939f3a4f0e3dd783</td>\n",
       "      <td>NaN</td>\n",
       "      <td>2017</td>\n",
       "      <td>2</td>\n",
       "      <td>unknown</td>\n",
       "      <td>middle</td>\n",
       "    </tr>\n",
       "    <tr>\n",
       "      <th>1</th>\n",
       "      <td>55.0</td>\n",
       "      <td>2017-07-15</td>\n",
       "      <td>Female</td>\n",
       "      <td>0610b486422d4921ae7d2bf64640c50b</td>\n",
       "      <td>112000.0</td>\n",
       "      <td>2017</td>\n",
       "      <td>7</td>\n",
       "      <td>high</td>\n",
       "      <td>middle</td>\n",
       "    </tr>\n",
       "  </tbody>\n",
       "</table>\n",
       "</div>"
      ],
      "text/plain": [
       "    age became_member_on   gender                                id    income  \\\n",
       "0   NaN       2017-02-12  unknown  68be06ca386d4c31939f3a4f0e3dd783       NaN   \n",
       "1  55.0       2017-07-15   Female  0610b486422d4921ae7d2bf64640c50b  112000.0   \n",
       "\n",
       "   became_member_year  became_member_month income_fix age_fix  \n",
       "0                2017                    2    unknown  middle  \n",
       "1                2017                    7       high  middle  "
      ]
     },
     "execution_count": 81,
     "metadata": {},
     "output_type": "execute_result"
    }
   ],
   "source": [
    "profile.head(2)"
   ]
  },
  {
   "cell_type": "code",
   "execution_count": 82,
   "metadata": {},
   "outputs": [
    {
     "data": {
      "text/html": [
       "<div>\n",
       "<style scoped>\n",
       "    .dataframe tbody tr th:only-of-type {\n",
       "        vertical-align: middle;\n",
       "    }\n",
       "\n",
       "    .dataframe tbody tr th {\n",
       "        vertical-align: top;\n",
       "    }\n",
       "\n",
       "    .dataframe thead th {\n",
       "        text-align: right;\n",
       "    }\n",
       "</style>\n",
       "<table border=\"1\" class=\"dataframe\">\n",
       "  <thead>\n",
       "    <tr style=\"text-align: right;\">\n",
       "      <th></th>\n",
       "      <th>difficulty</th>\n",
       "      <th>duration</th>\n",
       "      <th>id</th>\n",
       "      <th>offer_type</th>\n",
       "      <th>reward</th>\n",
       "      <th>mobile</th>\n",
       "      <th>social</th>\n",
       "      <th>email</th>\n",
       "      <th>web</th>\n",
       "    </tr>\n",
       "  </thead>\n",
       "  <tbody>\n",
       "    <tr>\n",
       "      <th>0</th>\n",
       "      <td>10</td>\n",
       "      <td>7</td>\n",
       "      <td>ae264e3637204a6fb9bb56bc8210ddfd</td>\n",
       "      <td>bogo</td>\n",
       "      <td>10</td>\n",
       "      <td>1</td>\n",
       "      <td>1</td>\n",
       "      <td>1</td>\n",
       "      <td>0</td>\n",
       "    </tr>\n",
       "    <tr>\n",
       "      <th>1</th>\n",
       "      <td>10</td>\n",
       "      <td>5</td>\n",
       "      <td>4d5c57ea9a6940dd891ad53e9dbe8da0</td>\n",
       "      <td>bogo</td>\n",
       "      <td>10</td>\n",
       "      <td>1</td>\n",
       "      <td>1</td>\n",
       "      <td>1</td>\n",
       "      <td>1</td>\n",
       "    </tr>\n",
       "  </tbody>\n",
       "</table>\n",
       "</div>"
      ],
      "text/plain": [
       "   difficulty  duration                                id offer_type  reward  \\\n",
       "0          10         7  ae264e3637204a6fb9bb56bc8210ddfd       bogo      10   \n",
       "1          10         5  4d5c57ea9a6940dd891ad53e9dbe8da0       bogo      10   \n",
       "\n",
       "   mobile  social  email  web  \n",
       "0       1       1      1    0  \n",
       "1       1       1      1    1  "
      ]
     },
     "execution_count": 82,
     "metadata": {},
     "output_type": "execute_result"
    }
   ],
   "source": [
    "portfolio.head(2)"
   ]
  },
  {
   "cell_type": "code",
   "execution_count": 83,
   "metadata": {},
   "outputs": [],
   "source": [
    "# merge the all data\n",
    "\n",
    "# firstly merge the profile data\n",
    "after_promotion = preprocess.merge_data(\n",
    "        profile.rename({\"id\":\"person\"}, axis=1).iloc[:, np.r_[1:4, 5:9]], \n",
    "        after_promotion, how=\"right\", on=\"person\", portfolio_suffix=(\"_x\", \"_y\")\n",
    "    )\n",
    "# secondly merge with the porfolio data\n",
    "after_promotion = preprocess.merge_data(\n",
    "        portfolio.rename({\"id\":\"offer_id\"}, axis=1),\n",
    "        after_promotion, how=\"right\", on=\"offer_id\", portfolio_suffix=(\"_x\", \"_y\")\n",
    "    )"
   ]
  },
  {
   "cell_type": "code",
   "execution_count": 84,
   "metadata": {},
   "outputs": [
    {
     "data": {
      "text/html": [
       "<div>\n",
       "<style scoped>\n",
       "    .dataframe tbody tr th:only-of-type {\n",
       "        vertical-align: middle;\n",
       "    }\n",
       "\n",
       "    .dataframe tbody tr th {\n",
       "        vertical-align: top;\n",
       "    }\n",
       "\n",
       "    .dataframe thead th {\n",
       "        text-align: right;\n",
       "    }\n",
       "</style>\n",
       "<table border=\"1\" class=\"dataframe\">\n",
       "  <thead>\n",
       "    <tr style=\"text-align: right;\">\n",
       "      <th></th>\n",
       "      <th>difficulty</th>\n",
       "      <th>duration</th>\n",
       "      <th>offer_id</th>\n",
       "      <th>offer_type</th>\n",
       "      <th>reward</th>\n",
       "      <th>mobile</th>\n",
       "      <th>social</th>\n",
       "      <th>email</th>\n",
       "      <th>web</th>\n",
       "      <th>became_member_on</th>\n",
       "      <th>gender</th>\n",
       "      <th>person</th>\n",
       "      <th>became_member_year</th>\n",
       "      <th>became_member_month</th>\n",
       "      <th>income_fix</th>\n",
       "      <th>age_fix</th>\n",
       "      <th>time</th>\n",
       "      <th>time_completed</th>\n",
       "      <th>amount</th>\n",
       "      <th>reward_complete</th>\n",
       "    </tr>\n",
       "  </thead>\n",
       "  <tbody>\n",
       "    <tr>\n",
       "      <th>0</th>\n",
       "      <td>10</td>\n",
       "      <td>7</td>\n",
       "      <td>ae264e3637204a6fb9bb56bc8210ddfd</td>\n",
       "      <td>bogo</td>\n",
       "      <td>10</td>\n",
       "      <td>1</td>\n",
       "      <td>1</td>\n",
       "      <td>1</td>\n",
       "      <td>0</td>\n",
       "      <td>2017-09-09</td>\n",
       "      <td>Male</td>\n",
       "      <td>4b0da7e80e5945209a1fdddfe813dbe0</td>\n",
       "      <td>2017</td>\n",
       "      <td>9</td>\n",
       "      <td>high</td>\n",
       "      <td>old</td>\n",
       "      <td>684</td>\n",
       "      <td>510.0</td>\n",
       "      <td>40.96</td>\n",
       "      <td>10.0</td>\n",
       "    </tr>\n",
       "    <tr>\n",
       "      <th>1</th>\n",
       "      <td>10</td>\n",
       "      <td>7</td>\n",
       "      <td>ae264e3637204a6fb9bb56bc8210ddfd</td>\n",
       "      <td>bogo</td>\n",
       "      <td>10</td>\n",
       "      <td>1</td>\n",
       "      <td>1</td>\n",
       "      <td>1</td>\n",
       "      <td>0</td>\n",
       "      <td>2016-08-11</td>\n",
       "      <td>Female</td>\n",
       "      <td>f8aedd0cbea0419c806842b4265b82e5</td>\n",
       "      <td>2016</td>\n",
       "      <td>8</td>\n",
       "      <td>medium_high</td>\n",
       "      <td>old</td>\n",
       "      <td>390</td>\n",
       "      <td>168.0</td>\n",
       "      <td>14.87</td>\n",
       "      <td>10.0</td>\n",
       "    </tr>\n",
       "  </tbody>\n",
       "</table>\n",
       "</div>"
      ],
      "text/plain": [
       "   difficulty  duration                          offer_id offer_type  reward  \\\n",
       "0          10         7  ae264e3637204a6fb9bb56bc8210ddfd       bogo      10   \n",
       "1          10         7  ae264e3637204a6fb9bb56bc8210ddfd       bogo      10   \n",
       "\n",
       "   mobile  social  email  web became_member_on  gender  \\\n",
       "0       1       1      1    0       2017-09-09    Male   \n",
       "1       1       1      1    0       2016-08-11  Female   \n",
       "\n",
       "                             person  became_member_year  became_member_month  \\\n",
       "0  4b0da7e80e5945209a1fdddfe813dbe0                2017                    9   \n",
       "1  f8aedd0cbea0419c806842b4265b82e5                2016                    8   \n",
       "\n",
       "    income_fix age_fix  time  time_completed  amount  reward_complete  \n",
       "0         high     old   684           510.0   40.96             10.0  \n",
       "1  medium_high     old   390           168.0   14.87             10.0  "
      ]
     },
     "execution_count": 84,
     "metadata": {},
     "output_type": "execute_result"
    }
   ],
   "source": [
    "after_promotion.head(2)"
   ]
  },
  {
   "cell_type": "markdown",
   "metadata": {},
   "source": [
    "### 3.5 Analyse The Long Term Effect After The Promotion\n",
    "Now we collect the different data that affect with the different promotion. We want to know the attribute of the uers who have the long term effect amonge the three promotion types."
   ]
  },
  {
   "cell_type": "code",
   "execution_count": 85,
   "metadata": {},
   "outputs": [
    {
     "data": {
      "text/html": [
       "<p style=\"font: italic 25px Fira Sans, serif;\">The total number of the users are                 <b style=\"color:#00ffff;\">17000</b>. But after the promotion done, there are                 <b style=\"color:#00ffff;\">4332</b> members actively going to the Starbucks.                 The raio is <b style=\"color:#00ffff;\">25.48%</b>.</p>"
      ]
     },
     "metadata": {},
     "output_type": "display_data"
    }
   ],
   "source": [
    "display_html('<p style=\"font: italic 25px Fira Sans, serif;\">The total number of the users are \\\n",
    "                <b style=\"color:#00ffff;\">{0}</b>. But after the promotion done, there are \\\n",
    "                <b style=\"color:#00ffff;\">{1}</b> members actively going to the Starbucks. \\\n",
    "                The raio is <b style=\"color:#00ffff;\">{2:.2f}%</b>.</p>'. \\\n",
    "             format(profile.id.nunique(), after_promotion.person.nunique(), \n",
    "                    after_promotion.person.nunique() / profile.id.nunique() * 100) , \n",
    "            raw=True)"
   ]
  },
  {
   "cell_type": "code",
   "execution_count": 86,
   "metadata": {},
   "outputs": [],
   "source": [
    "# fix the event\n",
    "after_promotion[\"event\"] = \\\n",
    "    after_promotion.reward_complete.notnull().apply(lambda x: \"offer_completed\" if x else \"offer_viewed\")"
   ]
  },
  {
   "cell_type": "code",
   "execution_count": 87,
   "metadata": {
    "scrolled": true
   },
   "outputs": [],
   "source": [
    "increase_ratio = (after_promotion.groupby([\"person\", \"offer_type\", \"event\"]).size() / \\\n",
    "        data.loc[data.person.isin(after_promotion.person.unique())]. \\\n",
    "            groupby([\"person\", \"offer_type\", \"event\"]).size()).reset_index().dropna()\n",
    "increase_ratio = increase_ratio.rename({0:\"ratio\"}, axis=1)"
   ]
  },
  {
   "cell_type": "code",
   "execution_count": 88,
   "metadata": {},
   "outputs": [
    {
     "data": {
      "text/html": [
       "<div>\n",
       "<style scoped>\n",
       "    .dataframe tbody tr th:only-of-type {\n",
       "        vertical-align: middle;\n",
       "    }\n",
       "\n",
       "    .dataframe tbody tr th {\n",
       "        vertical-align: top;\n",
       "    }\n",
       "\n",
       "    .dataframe thead th {\n",
       "        text-align: right;\n",
       "    }\n",
       "</style>\n",
       "<table border=\"1\" class=\"dataframe\">\n",
       "  <thead>\n",
       "    <tr style=\"text-align: right;\">\n",
       "      <th></th>\n",
       "      <th>person</th>\n",
       "      <th>offer_type</th>\n",
       "      <th>event</th>\n",
       "      <th>ratio</th>\n",
       "    </tr>\n",
       "  </thead>\n",
       "  <tbody>\n",
       "    <tr>\n",
       "      <th>3</th>\n",
       "      <td>0009655768c64bdeb2e877511632db8f</td>\n",
       "      <td>discount</td>\n",
       "      <td>offer_completed</td>\n",
       "      <td>1.5</td>\n",
       "    </tr>\n",
       "    <tr>\n",
       "      <th>15</th>\n",
       "      <td>0020ccbbb6d84e358d3414a3ff76cffd</td>\n",
       "      <td>informational</td>\n",
       "      <td>offer_viewed</td>\n",
       "      <td>6.0</td>\n",
       "    </tr>\n",
       "  </tbody>\n",
       "</table>\n",
       "</div>"
      ],
      "text/plain": [
       "                              person     offer_type            event  ratio\n",
       "3   0009655768c64bdeb2e877511632db8f       discount  offer_completed    1.5\n",
       "15  0020ccbbb6d84e358d3414a3ff76cffd  informational     offer_viewed    6.0"
      ]
     },
     "execution_count": 88,
     "metadata": {},
     "output_type": "execute_result"
    }
   ],
   "source": [
    "increase_ratio.head(2)"
   ]
  },
  {
   "cell_type": "code",
   "execution_count": 89,
   "metadata": {},
   "outputs": [
    {
     "data": {
      "image/png": "[encoded data removed]",
      "text/plain": [
       "<Figure size 864x648 with 2 Axes>"
      ]
     },
     "metadata": {},
     "output_type": "display_data"
    }
   ],
   "source": [
    "with sns.axes_style(\"dark\"), sns.plotting_context(\"notebook\", font_scale=1.2):\n",
    "    plt.figure(1, figsize=(12, 9))\n",
    "    ax1 = plt.axes([0, 0, .6, .9])\n",
    "    ax2 = plt.axes([0.65, 0, .6, .9])\n",
    "    \n",
    "    sns.boxplot(x=\"offer_type\", y=\"ratio\", data=increase_ratio, palette=[\"#8c8c91\", \"#98c6f7\"], ax=ax1)\n",
    "    sns.barplot(x=\"index\", y=\"offer_type\", palette=[\"#8c8c91\", \"#98c6f7\"],\n",
    "            data=after_promotion.offer_type.value_counts().reset_index(), ax=ax2)\n",
    "    \n",
    "    ax1.set_title(\"Growth Rate After Promtion Done\", loc=\"left\", fontsize=20)\n",
    "    ax1.set_xlabel(\"\")\n",
    "    ax1.set_ylabel(\"\")\n",
    "    \n",
    "    ax2.set_title(\"The Amount Of Different Promtion\", loc=\"left\", fontsize=20)\n",
    "    ax2.set_xlabel(\"\")\n",
    "    ax2.set_ylabel(\"\")\n",
    "    ax2.set_yticklabels([])\n",
    "    # set the number text\n",
    "    for index, bar in enumerate(ax2.patches):\n",
    "        plt.text(index-.2, bar.get_height()+100, int(bar.get_height()), fontsize=20)\n",
    "        "
   ]
  },
  {
   "cell_type": "markdown",
   "metadata": {},
   "source": [
    "#### 3.5.1 The Different Promotion Strategy Effect"
   ]
  },
  {
   "cell_type": "code",
   "execution_count": 90,
   "metadata": {},
   "outputs": [
    {
     "data": {
      "text/html": [
       "<h1>The Effect Of The Different Promotion</h1>         <p style=\"font:italic 25px Fira San,Serif;\">             <ul style=\"font:italic 25px Fira San, Serif;\">                 <li>The amount of promotion strategy are almost same.                     <ol style=\"font:italic 25px Fira San, Serif;\">                         <li>The largest one is the <b style=\"color:#00ffff;\">discount</b>                             has <b style=\"color:#00ffff;\">10,101</b></li>                         <li>The smallest one is the <b style=\"color:#00ffff;\">BOGO</b>                             has <b style=\"color:#00ffff;\">8,568</b></li>                         <li>The <b style=\"color:#00ffff;\">informational</b> is the middle one,                             has <b style=\"color:#00ffff;\">9,548</b></li>                     </ol>                 </li>                 <li>But there is signaficant different growth rate                     <ol style=\"font:italic 25px Fira San, Serif;\">                         <li>In totally, there are <b style=\"color:#00ffff;\">positive</b>                             effect at each strategy</li>                         <li>The informational make a high improve to  attract the customers</li>                     </ol>                 </li>             </ul>         </p>"
      ]
     },
     "metadata": {},
     "output_type": "display_data"
    }
   ],
   "source": [
    "display_html(\n",
    "    '<h1>The Effect Of The Different Promotion</h1> \\\n",
    "        <p style=\"font:italic 25px Fira San,Serif;\"> \\\n",
    "            <ul style=\"font:italic 25px Fira San, Serif;\"> \\\n",
    "                <li>The amount of promotion strategy are almost same. \\\n",
    "                    <ol style=\"font:italic 25px Fira San, Serif;\"> \\\n",
    "                        <li>The largest one is the <b style=\"color:#00ffff;\">discount</b> \\\n",
    "                            has <b style=\"color:#00ffff;\">10,101</b></li> \\\n",
    "                        <li>The smallest one is the <b style=\"color:#00ffff;\">BOGO</b> \\\n",
    "                            has <b style=\"color:#00ffff;\">8,568</b></li> \\\n",
    "                        <li>The <b style=\"color:#00ffff;\">informational</b> is the middle one, \\\n",
    "                            has <b style=\"color:#00ffff;\">9,548</b></li> \\\n",
    "                    </ol> \\\n",
    "                </li> \\\n",
    "                <li>But there is signaficant different growth rate \\\n",
    "                    <ol style=\"font:italic 25px Fira San, Serif;\"> \\\n",
    "                        <li>In totally, there are <b style=\"color:#00ffff;\">positive</b> \\\n",
    "                            effect at each strategy</li> \\\n",
    "                        <li>The informational make a high improve to  attract the customers</li> \\\n",
    "                    </ol> \\\n",
    "                </li> \\\n",
    "            </ul> \\\n",
    "        </p>', raw=True)"
   ]
  },
  {
   "cell_type": "code",
   "execution_count": 91,
   "metadata": {},
   "outputs": [],
   "source": [
    "# get the demographic information with grouping the offer type\n",
    "demograph_info_offer = preprocess.group_size(after_promotion, \n",
    "                                             [\"income_fix\", \"age_fix\", \"gender\", \"offer_type\"], label=\"value\")\n",
    "demograph_info_offer.columns = [\"income\", \"age\", \"gender\", \"offer_type\", \"value\"]"
   ]
  },
  {
   "cell_type": "code",
   "execution_count": 92,
   "metadata": {},
   "outputs": [
    {
     "data": {
      "image/png": "[encoded data removed]",
      "text/plain": [
       "<Figure size 880.7x1080 with 15 Axes>"
      ]
     },
     "metadata": {},
     "output_type": "display_data"
    }
   ],
   "source": [
    "with sns.axes_style(\"dark\"), sns.plotting_context(\"notebook\", font_scale=1):\n",
    "    g = sns.FacetGrid(demograph_info_offer, row=\"income\", col=\"age\", aspect=1.2, sharex=\"row\") #66CDAA\n",
    "    g.map_dataframe(sns.barplot, x=\"gender\", y=\"value\", hue=\"offer_type\", palette=[\"#8c8c91\", \"deepskyblue\", \"#98c6f7\"])\n",
    "    g.add_legend(title=\"Offer Type\")\n",
    "    plt.show()"
   ]
  },
  {
   "cell_type": "code",
   "execution_count": 93,
   "metadata": {},
   "outputs": [
    {
     "data": {
      "text/html": [
       "<div>\n",
       "<style scoped>\n",
       "    .dataframe tbody tr th:only-of-type {\n",
       "        vertical-align: middle;\n",
       "    }\n",
       "\n",
       "    .dataframe tbody tr th {\n",
       "        vertical-align: top;\n",
       "    }\n",
       "\n",
       "    .dataframe thead th {\n",
       "        text-align: right;\n",
       "    }\n",
       "</style>\n",
       "<table border=\"1\" class=\"dataframe\">\n",
       "  <thead>\n",
       "    <tr style=\"text-align: right;\">\n",
       "      <th></th>\n",
       "      <th>difficulty</th>\n",
       "      <th>duration</th>\n",
       "      <th>offer_id</th>\n",
       "      <th>offer_type</th>\n",
       "      <th>reward</th>\n",
       "      <th>mobile</th>\n",
       "      <th>social</th>\n",
       "      <th>email</th>\n",
       "      <th>web</th>\n",
       "      <th>became_member_on</th>\n",
       "      <th>...</th>\n",
       "      <th>person</th>\n",
       "      <th>became_member_year</th>\n",
       "      <th>became_member_month</th>\n",
       "      <th>income_fix</th>\n",
       "      <th>age_fix</th>\n",
       "      <th>time</th>\n",
       "      <th>time_completed</th>\n",
       "      <th>amount</th>\n",
       "      <th>reward_complete</th>\n",
       "      <th>event</th>\n",
       "    </tr>\n",
       "  </thead>\n",
       "  <tbody>\n",
       "    <tr>\n",
       "      <th>0</th>\n",
       "      <td>10</td>\n",
       "      <td>7</td>\n",
       "      <td>ae264e3637204a6fb9bb56bc8210ddfd</td>\n",
       "      <td>bogo</td>\n",
       "      <td>10</td>\n",
       "      <td>1</td>\n",
       "      <td>1</td>\n",
       "      <td>1</td>\n",
       "      <td>0</td>\n",
       "      <td>2017-09-09</td>\n",
       "      <td>...</td>\n",
       "      <td>4b0da7e80e5945209a1fdddfe813dbe0</td>\n",
       "      <td>2017</td>\n",
       "      <td>9</td>\n",
       "      <td>high</td>\n",
       "      <td>old</td>\n",
       "      <td>684</td>\n",
       "      <td>510.0</td>\n",
       "      <td>40.96</td>\n",
       "      <td>10.0</td>\n",
       "      <td>offer_completed</td>\n",
       "    </tr>\n",
       "    <tr>\n",
       "      <th>1</th>\n",
       "      <td>10</td>\n",
       "      <td>7</td>\n",
       "      <td>ae264e3637204a6fb9bb56bc8210ddfd</td>\n",
       "      <td>bogo</td>\n",
       "      <td>10</td>\n",
       "      <td>1</td>\n",
       "      <td>1</td>\n",
       "      <td>1</td>\n",
       "      <td>0</td>\n",
       "      <td>2016-08-11</td>\n",
       "      <td>...</td>\n",
       "      <td>f8aedd0cbea0419c806842b4265b82e5</td>\n",
       "      <td>2016</td>\n",
       "      <td>8</td>\n",
       "      <td>medium_high</td>\n",
       "      <td>old</td>\n",
       "      <td>390</td>\n",
       "      <td>168.0</td>\n",
       "      <td>14.87</td>\n",
       "      <td>10.0</td>\n",
       "      <td>offer_completed</td>\n",
       "    </tr>\n",
       "    <tr>\n",
       "      <th>2</th>\n",
       "      <td>10</td>\n",
       "      <td>7</td>\n",
       "      <td>ae264e3637204a6fb9bb56bc8210ddfd</td>\n",
       "      <td>bogo</td>\n",
       "      <td>10</td>\n",
       "      <td>1</td>\n",
       "      <td>1</td>\n",
       "      <td>1</td>\n",
       "      <td>0</td>\n",
       "      <td>2016-08-11</td>\n",
       "      <td>...</td>\n",
       "      <td>f8aedd0cbea0419c806842b4265b82e5</td>\n",
       "      <td>2016</td>\n",
       "      <td>8</td>\n",
       "      <td>medium_high</td>\n",
       "      <td>old</td>\n",
       "      <td>402</td>\n",
       "      <td>168.0</td>\n",
       "      <td>13.93</td>\n",
       "      <td>10.0</td>\n",
       "      <td>offer_completed</td>\n",
       "    </tr>\n",
       "    <tr>\n",
       "      <th>3</th>\n",
       "      <td>10</td>\n",
       "      <td>7</td>\n",
       "      <td>ae264e3637204a6fb9bb56bc8210ddfd</td>\n",
       "      <td>bogo</td>\n",
       "      <td>10</td>\n",
       "      <td>1</td>\n",
       "      <td>1</td>\n",
       "      <td>1</td>\n",
       "      <td>0</td>\n",
       "      <td>2016-08-11</td>\n",
       "      <td>...</td>\n",
       "      <td>f8aedd0cbea0419c806842b4265b82e5</td>\n",
       "      <td>2016</td>\n",
       "      <td>8</td>\n",
       "      <td>medium_high</td>\n",
       "      <td>old</td>\n",
       "      <td>444</td>\n",
       "      <td>168.0</td>\n",
       "      <td>17.48</td>\n",
       "      <td>10.0</td>\n",
       "      <td>offer_completed</td>\n",
       "    </tr>\n",
       "    <tr>\n",
       "      <th>4</th>\n",
       "      <td>10</td>\n",
       "      <td>7</td>\n",
       "      <td>ae264e3637204a6fb9bb56bc8210ddfd</td>\n",
       "      <td>bogo</td>\n",
       "      <td>10</td>\n",
       "      <td>1</td>\n",
       "      <td>1</td>\n",
       "      <td>1</td>\n",
       "      <td>0</td>\n",
       "      <td>2016-08-11</td>\n",
       "      <td>...</td>\n",
       "      <td>f8aedd0cbea0419c806842b4265b82e5</td>\n",
       "      <td>2016</td>\n",
       "      <td>8</td>\n",
       "      <td>medium_high</td>\n",
       "      <td>old</td>\n",
       "      <td>462</td>\n",
       "      <td>168.0</td>\n",
       "      <td>15.87</td>\n",
       "      <td>10.0</td>\n",
       "      <td>offer_completed</td>\n",
       "    </tr>\n",
       "  </tbody>\n",
       "</table>\n",
       "<p>5 rows × 21 columns</p>\n",
       "</div>"
      ],
      "text/plain": [
       "   difficulty  duration                          offer_id offer_type  reward  \\\n",
       "0          10         7  ae264e3637204a6fb9bb56bc8210ddfd       bogo      10   \n",
       "1          10         7  ae264e3637204a6fb9bb56bc8210ddfd       bogo      10   \n",
       "2          10         7  ae264e3637204a6fb9bb56bc8210ddfd       bogo      10   \n",
       "3          10         7  ae264e3637204a6fb9bb56bc8210ddfd       bogo      10   \n",
       "4          10         7  ae264e3637204a6fb9bb56bc8210ddfd       bogo      10   \n",
       "\n",
       "   mobile  social  email  web became_member_on       ...         \\\n",
       "0       1       1      1    0       2017-09-09       ...          \n",
       "1       1       1      1    0       2016-08-11       ...          \n",
       "2       1       1      1    0       2016-08-11       ...          \n",
       "3       1       1      1    0       2016-08-11       ...          \n",
       "4       1       1      1    0       2016-08-11       ...          \n",
       "\n",
       "                             person became_member_year  became_member_month  \\\n",
       "0  4b0da7e80e5945209a1fdddfe813dbe0               2017                    9   \n",
       "1  f8aedd0cbea0419c806842b4265b82e5               2016                    8   \n",
       "2  f8aedd0cbea0419c806842b4265b82e5               2016                    8   \n",
       "3  f8aedd0cbea0419c806842b4265b82e5               2016                    8   \n",
       "4  f8aedd0cbea0419c806842b4265b82e5               2016                    8   \n",
       "\n",
       "    income_fix age_fix time  time_completed  amount  reward_complete  \\\n",
       "0         high     old  684           510.0   40.96             10.0   \n",
       "1  medium_high     old  390           168.0   14.87             10.0   \n",
       "2  medium_high     old  402           168.0   13.93             10.0   \n",
       "3  medium_high     old  444           168.0   17.48             10.0   \n",
       "4  medium_high     old  462           168.0   15.87             10.0   \n",
       "\n",
       "             event  \n",
       "0  offer_completed  \n",
       "1  offer_completed  \n",
       "2  offer_completed  \n",
       "3  offer_completed  \n",
       "4  offer_completed  \n",
       "\n",
       "[5 rows x 21 columns]"
      ]
     },
     "execution_count": 93,
     "metadata": {},
     "output_type": "execute_result"
    }
   ],
   "source": [
    "after_promotion.head()"
   ]
  },
  {
   "cell_type": "code",
   "execution_count": 94,
   "metadata": {},
   "outputs": [],
   "source": [
    "# explore the missing demographic value users after the promotion\n",
    "unknown_user = preprocess.group_size(\n",
    "    after_promotion.loc[after_promotion.income_fix ==\"unknown\"], \n",
    "    [\"income_fix\",\"became_member_year\", \"became_member_month\"], label=\"number\"\n",
    "    )\n"
   ]
  },
  {
   "cell_type": "code",
   "execution_count": 95,
   "metadata": {},
   "outputs": [
    {
     "data": {
      "image/png": "[encoded data removed]",
      "text/plain": [
       "<Figure size 720x360 with 1 Axes>"
      ]
     },
     "metadata": {},
     "output_type": "display_data"
    }
   ],
   "source": [
    "with warnings.catch_warnings(),sns.axes_style(\"dark\"), sns.plotting_context(\"paper\", font_scale=2):\n",
    "    warnings.simplefilter(\"ignore\")\n",
    "    plt.figure(figsize=(10, 5))\n",
    "    ax = plt.subplot()\n",
    "    sns.barplot(x=\"became_member_year\", y=\"number\", data=unknown_user, ax=ax,\n",
    "                estimator=np.mean, units=\"became_member_month\", palette=[\"#8c8c91\"])\n",
    "    \n",
    "    ax.set_xlabel(\"\")\n",
    "    ax.set_ylabel(\"\")\n",
    "    ax.set_title(\"Users With Missing Demographic In Different Year\", loc=\"left\")"
   ]
  },
  {
   "cell_type": "markdown",
   "metadata": {},
   "source": [
    "### 3.6 Analyze The relationship Between Demographic Information And Promotion\n",
    "Now we take a deep into the users demographic information with the different promotion strategy.   \n",
    "1. Firstly, the gender other doesn't have apparent significance.\n",
    "2. The new users who don't have detailed demographic value can attract by the informational promotion. Especially, the amount of the member in the 2017 has the largest IQR\n",
    "3. The young low-income male users and the old low-income male can attract by the informational promotion. At the same time, the rest promotion types do have a significant impact. In totally, the young members are much more active than the other age users, at the low-income level.\n",
    "4. Above the medium-high income level, the discount promotion type makes a much more improve the buying amount.   \n",
    "\n",
    "In a word, the informational promotion type affects the new member users; the discount promotion type affects the high-income member users; the pop users are the young medium-income, which exclude the non-demographic information member."
   ]
  },
  {
   "cell_type": "markdown",
   "metadata": {},
   "source": [
    "## Step 4: Build Model\n",
    "As we all know, a company must make a profile to keep running. So, we want to know how much the promotion affects the profile. Now we have the amount value and another information values like demographic information and promotion information. Then the next step is model building that can make a prediction according to the demographic and the promotion, and the target label is the amount value. Now we can use the supervised machine learning to make the build."
   ]
  },
  {
   "cell_type": "code",
   "execution_count": 96,
   "metadata": {},
   "outputs": [
    {
     "data": {
      "text/html": [
       "<div>\n",
       "<style scoped>\n",
       "    .dataframe tbody tr th:only-of-type {\n",
       "        vertical-align: middle;\n",
       "    }\n",
       "\n",
       "    .dataframe tbody tr th {\n",
       "        vertical-align: top;\n",
       "    }\n",
       "\n",
       "    .dataframe thead th {\n",
       "        text-align: right;\n",
       "    }\n",
       "</style>\n",
       "<table border=\"1\" class=\"dataframe\">\n",
       "  <thead>\n",
       "    <tr style=\"text-align: right;\">\n",
       "      <th></th>\n",
       "      <th>difficulty</th>\n",
       "      <th>duration</th>\n",
       "      <th>offer_id</th>\n",
       "      <th>offer_type</th>\n",
       "      <th>reward</th>\n",
       "      <th>mobile</th>\n",
       "      <th>social</th>\n",
       "      <th>email</th>\n",
       "      <th>web</th>\n",
       "      <th>became_member_on</th>\n",
       "      <th>...</th>\n",
       "      <th>person</th>\n",
       "      <th>became_member_year</th>\n",
       "      <th>became_member_month</th>\n",
       "      <th>income_fix</th>\n",
       "      <th>age_fix</th>\n",
       "      <th>time</th>\n",
       "      <th>time_completed</th>\n",
       "      <th>amount</th>\n",
       "      <th>reward_complete</th>\n",
       "      <th>event</th>\n",
       "    </tr>\n",
       "  </thead>\n",
       "  <tbody>\n",
       "    <tr>\n",
       "      <th>0</th>\n",
       "      <td>10</td>\n",
       "      <td>7</td>\n",
       "      <td>ae264e3637204a6fb9bb56bc8210ddfd</td>\n",
       "      <td>bogo</td>\n",
       "      <td>10</td>\n",
       "      <td>1</td>\n",
       "      <td>1</td>\n",
       "      <td>1</td>\n",
       "      <td>0</td>\n",
       "      <td>2017-09-09</td>\n",
       "      <td>...</td>\n",
       "      <td>4b0da7e80e5945209a1fdddfe813dbe0</td>\n",
       "      <td>2017</td>\n",
       "      <td>9</td>\n",
       "      <td>high</td>\n",
       "      <td>old</td>\n",
       "      <td>684</td>\n",
       "      <td>510.0</td>\n",
       "      <td>40.96</td>\n",
       "      <td>10.0</td>\n",
       "      <td>offer_completed</td>\n",
       "    </tr>\n",
       "    <tr>\n",
       "      <th>1</th>\n",
       "      <td>10</td>\n",
       "      <td>7</td>\n",
       "      <td>ae264e3637204a6fb9bb56bc8210ddfd</td>\n",
       "      <td>bogo</td>\n",
       "      <td>10</td>\n",
       "      <td>1</td>\n",
       "      <td>1</td>\n",
       "      <td>1</td>\n",
       "      <td>0</td>\n",
       "      <td>2016-08-11</td>\n",
       "      <td>...</td>\n",
       "      <td>f8aedd0cbea0419c806842b4265b82e5</td>\n",
       "      <td>2016</td>\n",
       "      <td>8</td>\n",
       "      <td>medium_high</td>\n",
       "      <td>old</td>\n",
       "      <td>390</td>\n",
       "      <td>168.0</td>\n",
       "      <td>14.87</td>\n",
       "      <td>10.0</td>\n",
       "      <td>offer_completed</td>\n",
       "    </tr>\n",
       "    <tr>\n",
       "      <th>2</th>\n",
       "      <td>10</td>\n",
       "      <td>7</td>\n",
       "      <td>ae264e3637204a6fb9bb56bc8210ddfd</td>\n",
       "      <td>bogo</td>\n",
       "      <td>10</td>\n",
       "      <td>1</td>\n",
       "      <td>1</td>\n",
       "      <td>1</td>\n",
       "      <td>0</td>\n",
       "      <td>2016-08-11</td>\n",
       "      <td>...</td>\n",
       "      <td>f8aedd0cbea0419c806842b4265b82e5</td>\n",
       "      <td>2016</td>\n",
       "      <td>8</td>\n",
       "      <td>medium_high</td>\n",
       "      <td>old</td>\n",
       "      <td>402</td>\n",
       "      <td>168.0</td>\n",
       "      <td>13.93</td>\n",
       "      <td>10.0</td>\n",
       "      <td>offer_completed</td>\n",
       "    </tr>\n",
       "    <tr>\n",
       "      <th>3</th>\n",
       "      <td>10</td>\n",
       "      <td>7</td>\n",
       "      <td>ae264e3637204a6fb9bb56bc8210ddfd</td>\n",
       "      <td>bogo</td>\n",
       "      <td>10</td>\n",
       "      <td>1</td>\n",
       "      <td>1</td>\n",
       "      <td>1</td>\n",
       "      <td>0</td>\n",
       "      <td>2016-08-11</td>\n",
       "      <td>...</td>\n",
       "      <td>f8aedd0cbea0419c806842b4265b82e5</td>\n",
       "      <td>2016</td>\n",
       "      <td>8</td>\n",
       "      <td>medium_high</td>\n",
       "      <td>old</td>\n",
       "      <td>444</td>\n",
       "      <td>168.0</td>\n",
       "      <td>17.48</td>\n",
       "      <td>10.0</td>\n",
       "      <td>offer_completed</td>\n",
       "    </tr>\n",
       "    <tr>\n",
       "      <th>4</th>\n",
       "      <td>10</td>\n",
       "      <td>7</td>\n",
       "      <td>ae264e3637204a6fb9bb56bc8210ddfd</td>\n",
       "      <td>bogo</td>\n",
       "      <td>10</td>\n",
       "      <td>1</td>\n",
       "      <td>1</td>\n",
       "      <td>1</td>\n",
       "      <td>0</td>\n",
       "      <td>2016-08-11</td>\n",
       "      <td>...</td>\n",
       "      <td>f8aedd0cbea0419c806842b4265b82e5</td>\n",
       "      <td>2016</td>\n",
       "      <td>8</td>\n",
       "      <td>medium_high</td>\n",
       "      <td>old</td>\n",
       "      <td>462</td>\n",
       "      <td>168.0</td>\n",
       "      <td>15.87</td>\n",
       "      <td>10.0</td>\n",
       "      <td>offer_completed</td>\n",
       "    </tr>\n",
       "  </tbody>\n",
       "</table>\n",
       "<p>5 rows × 21 columns</p>\n",
       "</div>"
      ],
      "text/plain": [
       "   difficulty  duration                          offer_id offer_type  reward  \\\n",
       "0          10         7  ae264e3637204a6fb9bb56bc8210ddfd       bogo      10   \n",
       "1          10         7  ae264e3637204a6fb9bb56bc8210ddfd       bogo      10   \n",
       "2          10         7  ae264e3637204a6fb9bb56bc8210ddfd       bogo      10   \n",
       "3          10         7  ae264e3637204a6fb9bb56bc8210ddfd       bogo      10   \n",
       "4          10         7  ae264e3637204a6fb9bb56bc8210ddfd       bogo      10   \n",
       "\n",
       "   mobile  social  email  web became_member_on       ...         \\\n",
       "0       1       1      1    0       2017-09-09       ...          \n",
       "1       1       1      1    0       2016-08-11       ...          \n",
       "2       1       1      1    0       2016-08-11       ...          \n",
       "3       1       1      1    0       2016-08-11       ...          \n",
       "4       1       1      1    0       2016-08-11       ...          \n",
       "\n",
       "                             person became_member_year  became_member_month  \\\n",
       "0  4b0da7e80e5945209a1fdddfe813dbe0               2017                    9   \n",
       "1  f8aedd0cbea0419c806842b4265b82e5               2016                    8   \n",
       "2  f8aedd0cbea0419c806842b4265b82e5               2016                    8   \n",
       "3  f8aedd0cbea0419c806842b4265b82e5               2016                    8   \n",
       "4  f8aedd0cbea0419c806842b4265b82e5               2016                    8   \n",
       "\n",
       "    income_fix age_fix time  time_completed  amount  reward_complete  \\\n",
       "0         high     old  684           510.0   40.96             10.0   \n",
       "1  medium_high     old  390           168.0   14.87             10.0   \n",
       "2  medium_high     old  402           168.0   13.93             10.0   \n",
       "3  medium_high     old  444           168.0   17.48             10.0   \n",
       "4  medium_high     old  462           168.0   15.87             10.0   \n",
       "\n",
       "             event  \n",
       "0  offer_completed  \n",
       "1  offer_completed  \n",
       "2  offer_completed  \n",
       "3  offer_completed  \n",
       "4  offer_completed  \n",
       "\n",
       "[5 rows x 21 columns]"
      ]
     },
     "execution_count": 96,
     "metadata": {},
     "output_type": "execute_result"
    }
   ],
   "source": [
    "after_promotion.head()"
   ]
  },
  {
   "cell_type": "code",
   "execution_count": 97,
   "metadata": {},
   "outputs": [],
   "source": [
    "# get the copy of the promotion data\n",
    "raw_data = after_promotion.drop([\"offer_id\", \"person\", \"event\"], axis=1)\n",
    "\n",
    "# get the time interval between the promotion completed and the transaction time\n",
    "raw_data[\"time_interval\"] = raw_data[\"time\"] - raw_data[\"time_completed\"]\n",
    "raw_data.drop([\"time\", \"time_completed\"], axis=1, inplace=True)"
   ]
  },
  {
   "cell_type": "code",
   "execution_count": 98,
   "metadata": {},
   "outputs": [
    {
     "data": {
      "image/png": "[encoded data removed]",
      "text/plain": [
       "<Figure size 864x576 with 2 Axes>"
      ]
     },
     "metadata": {},
     "output_type": "display_data"
    }
   ],
   "source": [
    "with sns.axes_style(\"dark\"), sns.plotting_context(\"paper\", font_scale=1.2):\n",
    "    plt.figure(figsize=(12, 8))\n",
    "    ax = plt.subplot()\n",
    "    sns.heatmap(raw_data.select_dtypes(exclude=[\"object\"]).corr(), annot=True, ax=ax)\n",
    "    \n",
    "    ax.tick_params(labelsize=16)\n",
    "    ax.tick_params(axis=\"x\", labelrotation=270, pad=-2)"
   ]
  },
  {
   "cell_type": "code",
   "execution_count": 99,
   "metadata": {},
   "outputs": [
    {
     "data": {
      "text/plain": [
       "1    28217\n",
       "Name: email, dtype: int64"
      ]
     },
     "execution_count": 99,
     "metadata": {},
     "output_type": "execute_result"
    }
   ],
   "source": [
    "raw_data.email.value_counts()"
   ]
  },
  {
   "cell_type": "code",
   "execution_count": 100,
   "metadata": {},
   "outputs": [
    {
     "data": {
      "text/plain": [
       "0"
      ]
     },
     "execution_count": 100,
     "metadata": {},
     "output_type": "execute_result"
    }
   ],
   "source": [
    "(raw_data.loc[raw_data.reward_complete.notnull(), \"reward\"] != \n",
    "     raw_data.loc[raw_data.reward_complete.notnull(), \"reward_complete\"]).sum()"
   ]
  },
  {
   "cell_type": "code",
   "execution_count": 101,
   "metadata": {},
   "outputs": [
    {
     "data": {
      "text/plain": [
       "reward_complete    9548\n",
       "difficulty            0\n",
       "duration              0\n",
       "dtype: int64"
      ]
     },
     "execution_count": 101,
     "metadata": {},
     "output_type": "execute_result"
    }
   ],
   "source": [
    "raw_data.isnull().sum().nlargest(3)"
   ]
  },
  {
   "cell_type": "markdown",
   "metadata": {},
   "source": [
    "**Feature Engineering:**  \n",
    "According to the heatmap, some things show:\n",
    "1. we know that the feature email is imbalance data, then we will drop the feature\n",
    "2. The feature reward and the feature reward_complete have the high correlation, because they are same. The two features need to drop duplicates. Besides the reward_complete has missing value, and we can think that the value is 0\n",
    "3. The feature duration and the feature difficulty have the high correlation. The two features can transorm as the difficulty ratio in the duration\n",
    "4. There are some category variable. We need to encode the value\n"
   ]
  },
  {
   "cell_type": "code",
   "execution_count": 102,
   "metadata": {},
   "outputs": [],
   "source": [
    "# feature engineering\n",
    "raw_data[\"difficulty\"] = raw_data[\"difficulty\"] / raw_data[\"duration\"]\n",
    "\n",
    "\n",
    "raw_data.drop([\"email\", \"reward_complete\", \"difficulty\", \"became_member_on\"], axis=1, inplace=True)\n",
    "raw_data = pd.get_dummies(raw_data)\n",
    "# delete the unnecessary dummy featuer\n",
    "raw_data.drop([\"gender_unknown\", \"income_fix_unknown\", \"offer_type_informational\"], axis=1, inplace=True)\n",
    "\n",
    "raw_data[\"duration\"] = raw_data.duration.astype(\"float16\")"
   ]
  },
  {
   "cell_type": "markdown",
   "metadata": {},
   "source": [
    "#### 4.1 Build Basic Model\n",
    "Consider that the most feature are discrete value, we use the DecisionTreeRegressor to build the basic model, so that meaure the optimize result"
   ]
  },
  {
   "cell_type": "code",
   "execution_count": 103,
   "metadata": {},
   "outputs": [
    {
     "data": {
      "text/plain": [
       "duration                  float16\n",
       "reward                      int64\n",
       "mobile                      int64\n",
       "social                      int64\n",
       "web                         int64\n",
       "became_member_year          int64\n",
       "became_member_month         int64\n",
       "amount                    float64\n",
       "time_interval             float64\n",
       "offer_type_bogo             uint8\n",
       "offer_type_discount         uint8\n",
       "gender_Female               uint8\n",
       "gender_Male                 uint8\n",
       "gender_Other                uint8\n",
       "income_fix_low              uint8\n",
       "income_fix_medium           uint8\n",
       "income_fix_medium_high      uint8\n",
       "income_fix_high             uint8\n",
       "age_fix_young               uint8\n",
       "age_fix_middle              uint8\n",
       "age_fix_old                 uint8\n",
       "dtype: object"
      ]
     },
     "execution_count": 103,
     "metadata": {},
     "output_type": "execute_result"
    }
   ],
   "source": [
    "raw_data.dtypes"
   ]
  },
  {
   "cell_type": "code",
   "execution_count": 104,
   "metadata": {
    "scrolled": false
   },
   "outputs": [
    {
     "data": {
      "image/png": "[encoded data removed]",
      "text/plain": [
       "<Figure size 504x504 with 9 Axes>"
      ]
     },
     "metadata": {
      "needs_background": "light"
     },
     "output_type": "display_data"
    }
   ],
   "source": [
    "pd.plotting.scatter_matrix(raw_data.select_dtypes(include=[\"float16\", \"float64\"]), figsize=(7, 7));"
   ]
  },
  {
   "cell_type": "code",
   "execution_count": 105,
   "metadata": {},
   "outputs": [
    {
     "data": {
      "image/png": "[encoded data removed]",
      "text/plain": [
       "<Figure size 432x288 with 1 Axes>"
      ]
     },
     "metadata": {
      "needs_background": "light"
     },
     "output_type": "display_data"
    }
   ],
   "source": [
    "raw_data.amount.apply(np.log2).plot.hist(bins=40);"
   ]
  },
  {
   "cell_type": "code",
   "execution_count": 106,
   "metadata": {},
   "outputs": [],
   "source": [
    "X = raw_data.drop(\"amount\", axis=1)\n",
    "y = raw_data[\"amount\"].apply(np.log2)\n",
    "\n",
    "# y = minmax_scale(y)"
   ]
  },
  {
   "cell_type": "code",
   "execution_count": 107,
   "metadata": {},
   "outputs": [],
   "source": [
    "train_X, test_X, train_y, test_y = \\\n",
    "    train_test_split(X, y, test_size=.25, random_state=42, shuffle=True)"
   ]
  },
  {
   "cell_type": "code",
   "execution_count": 108,
   "metadata": {},
   "outputs": [],
   "source": [
    "pipeline = Pipeline([\n",
    "    (\"feature_select\", SelectPercentile()),\n",
    "    (\"model\", LinearRegression(n_jobs=2))\n",
    "])\n",
    "params = {\n",
    "    \"feature_select__percentile\":[70, 90, 100],\n",
    "    \"model__normalize\":[True, False],\n",
    "}\n",
    "\n",
    "cv = GridSearchCV(pipeline, param_grid=params, cv=3, n_jobs=2)"
   ]
  },
  {
   "cell_type": "code",
   "execution_count": 109,
   "metadata": {},
   "outputs": [
    {
     "data": {
      "text/html": [
       "<h1>The LinearRegression model result:</h1>             <ul style=\"font:italic 25px Fira San, Serif;\">                 <li>The mean squared value of the test data is: 1.1819</li>                 <li>The R^2 score of the test data is: 0.4736</li>                 <li>The R^2 score of the train data is: 0.4689</li>             </ul>"
      ]
     },
     "metadata": {},
     "output_type": "display_data"
    }
   ],
   "source": [
    "# train the basic model\n",
    "cv = model.model_built(pipeline, params, train_X, train_y, test_X=test_X,\n",
    "                  test_y=test_y, model_name=\"LinearRegression\",report=True)"
   ]
  },
  {
   "cell_type": "markdown",
   "metadata": {},
   "source": [
    "### 4.2 Train Model"
   ]
  },
  {
   "cell_type": "markdown",
   "metadata": {},
   "source": [
    "Firstly, we use the LinearRegression method to build the model. We can see that the the model is maken a prove. And we want to know that whether a better model. The next step, we dive into the DecisionTreeRegressor and the RandomForestRegressor"
   ]
  },
  {
   "cell_type": "code",
   "execution_count": 110,
   "metadata": {},
   "outputs": [],
   "source": [
    "pipeline = Pipeline([\n",
    "    (\"feature_select\", SelectPercentile()),\n",
    "    (\"model\", DecisionTreeRegressor(random_state=42))\n",
    "])\n",
    "params = {\n",
    "    \"feature_select__percentile\":[70, 90, 100],\n",
    "    \"model__max_depth\":[5, 10, None],\n",
    "    \"model__min_samples_leaf\":[2, 4],\n",
    "    \"model__splitter\": [\"best\", \"random\"]\n",
    "}"
   ]
  },
  {
   "cell_type": "code",
   "execution_count": 111,
   "metadata": {},
   "outputs": [
    {
     "data": {
      "text/html": [
       "<h1>The DecisionTreeRegressor model result:</h1>             <ul style=\"font:italic 25px Fira San, Serif;\">                 <li>The mean squared value of the test data is: 0.9423</li>                 <li>The R^2 score of the test data is: 0.5804</li>                 <li>The R^2 score of the train data is: 0.6876</li>             </ul>"
      ]
     },
     "metadata": {},
     "output_type": "display_data"
    }
   ],
   "source": [
    "# train the second model\n",
    "cv = model.model_built(pipeline, params, train_X, train_y, test_X=test_X,\n",
    "                  test_y=test_y, model_name=\"DecisionTreeRegressor\",report=True)"
   ]
  },
  {
   "cell_type": "code",
   "execution_count": 112,
   "metadata": {},
   "outputs": [
    {
     "data": {
      "text/plain": [
       "[('feature_select', SelectPercentile(percentile=90,\n",
       "           score_func=<function f_classif at 0x137000620>)),\n",
       " ('model',\n",
       "  DecisionTreeRegressor(criterion='mse', max_depth=None, max_features=None,\n",
       "             max_leaf_nodes=None, min_impurity_decrease=0.0,\n",
       "             min_impurity_split=None, min_samples_leaf=2,\n",
       "             min_samples_split=2, min_weight_fraction_leaf=0.0,\n",
       "             presort=False, random_state=42, splitter='best'))]"
      ]
     },
     "execution_count": 112,
     "metadata": {},
     "output_type": "execute_result"
    }
   ],
   "source": [
    "cv.best_estimator_.steps"
   ]
  },
  {
   "cell_type": "code",
   "execution_count": 113,
   "metadata": {},
   "outputs": [
    {
     "data": {
      "image/png": "[encoded data removed]",
      "text/plain": [
       "<Figure size 504x504 with 1 Axes>"
      ]
     },
     "metadata": {},
     "output_type": "display_data"
    }
   ],
   "source": [
    "ax = model.plot_feature(cv, raw_data.drop(\"amount\", axis=1).columns)"
   ]
  },
  {
   "cell_type": "code",
   "execution_count": 114,
   "metadata": {},
   "outputs": [],
   "source": [
    "# train the third model\n",
    "pipeline = Pipeline([\n",
    "    (\"feature_select\", SelectPercentile()),\n",
    "    (\"model\", RandomForestRegressor(random_state=42, n_jobs=2))\n",
    "])\n",
    "\n",
    "params = {\n",
    "    \"feature_select__percentile\":[70, 90, 100],\n",
    "    \"model__max_depth\":[5, 10, 15, None],\n",
    "    \"model__n_estimators\":[20, 50, 100],\n",
    "    \"model__min_samples_leaf\":[2, 4]\n",
    "}"
   ]
  },
  {
   "cell_type": "code",
   "execution_count": 115,
   "metadata": {},
   "outputs": [
    {
     "data": {
      "text/html": [
       "<h1>The RandomForestRegressor model result:</h1>             <ul style=\"font:italic 25px Fira San, Serif;\">                 <li>The mean squared value of the test data is: 0.9150</li>                 <li>The R^2 score of the test data is: 0.5925</li>                 <li>The R^2 score of the train data is: 0.6767</li>             </ul>"
      ]
     },
     "metadata": {},
     "output_type": "display_data"
    }
   ],
   "source": [
    "cv = model.model_built(pipeline, params, train_X, train_y, test_X=test_X,\n",
    "                  test_y=test_y, model_name=\"RandomForestRegressor\",report=True)"
   ]
  },
  {
   "cell_type": "code",
   "execution_count": 116,
   "metadata": {},
   "outputs": [
    {
     "data": {
      "image/png": "[encoded data removed]",
      "text/plain": [
       "<Figure size 504x504 with 1 Axes>"
      ]
     },
     "metadata": {},
     "output_type": "display_data"
    }
   ],
   "source": [
    "ax = model.plot_feature(cv, raw_data.drop(\"amount\", axis=1).columns)"
   ]
  },
  {
   "cell_type": "code",
   "execution_count": null,
   "metadata": {},
   "outputs": [],
   "source": []
  },
  {
   "cell_type": "code",
   "execution_count": null,
   "metadata": {},
   "outputs": [],
   "source": []
  },
  {
   "cell_type": "markdown",
   "metadata": {},
   "source": [
    "## A. Reference\n",
    "1. [Starbucks Demographics and Consumer Insights](http://snapshot.numerator.com/brand/starbucks)\n",
    "2. [30 Curious Starbucks Demographics](https://brandongaille.com/30-curious-starbucks-demographics/)\n",
    "3. [Who Is Starbucks' Target Audience?](https://smallbusiness.chron.com/starbucks-target-audience-10553.html)\n",
    "4. [机器学习中如何处理缺失数据](https://blog.csdn.net/hai008007/article/details/80067865)"
   ]
  }
 ],
 "metadata": {
  "kernelspec": {
   "display_name": "Python [default]",
   "language": "python",
   "name": "python3"
  },
  "language_info": {
   "codemirror_mode": {
    "name": "ipython",
    "version": 3
   },
   "file_extension": ".py",
   "mimetype": "text/x-python",
   "name": "python",
   "nbconvert_exporter": "python",
   "pygments_lexer": "ipython3",
   "version": "3.6.6"
  }
 },
 "nbformat": 4,
 "nbformat_minor": 2
}
